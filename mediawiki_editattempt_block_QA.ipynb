{
 "cells": [
  {
   "cell_type": "markdown",
   "id": "6abfc4e5-9349-487d-b549-ca341a89666c",
   "metadata": {},
   "source": [
    "# QA of BlockedEditAttemptInstrumentation\n",
    "\n",
    "[Task](https://phabricator.wikimedia.org/T310390)\n",
    "\n",
    "[Schema](https://schema.wikimedia.org/#!/secondary/jsonschema/analytics/mediawiki/editattemptsblocked)"
   ]
  },
  {
   "cell_type": "markdown",
   "id": "114986a7-9b67-4a05-b5dd-791eae9b202f",
   "metadata": {},
   "source": [
    "## QA Notes/ Issues\n",
    "* Schema documentation lists the stream as 'mediawiki.editattemptsblocked' but it appears in Hive as mediawiki_editattempt_block. Can we updated the documentation to be consistent?\n",
    "* Less than 1% of events have a country_code that was not logged correctly. These appear as a long string of characters and numbers (i.e. '()&%<acx><ScRiPt >XNeG(9125)</ScRiPt>'). Per T310390#8333040, these appear to be users throwing XSS vectors from the GeoIP cookie."
   ]
  },
  {
   "cell_type": "code",
   "execution_count": 4,
   "id": "a1edd401-b08c-4510-a731-7faa4c116e00",
   "metadata": {},
   "outputs": [],
   "source": [
    "shhh <- function(expr) suppressPackageStartupMessages(suppressWarnings(suppressMessages(expr)))\n",
    "shhh({\n",
    "    library(tidyverse); library(glue); library(lubridate); library(scales)\n",
    "})\n"
   ]
  },
  {
   "cell_type": "code",
   "execution_count": 9,
   "id": "d1ef3c2d-1b30-4041-9edc-905bcc5b5da8",
   "metadata": {},
   "outputs": [],
   "source": [
    "# Collect all events from new instrumentation to review\n",
    "\n",
    "query <-\n",
    "\"SELECT\n",
    " date_format(dt, 'yyyy-MM-dd') AS block_time,\n",
    "block_type,\n",
    "block_expiry,\n",
    "block_id,\n",
    "block_scope,\n",
    "interface,\n",
    "country_code,\n",
    "platform,\n",
    "`database`,\n",
    "page_id,\n",
    "page_namespace,\n",
    "rev_id,\n",
    "performer.user_id,\n",
    "performer.user_edit_count,\n",
    "http.client_ip\n",
    "FROM\n",
    "event.mediawiki_editattempt_block\n",
    "WHERE\n",
    "YEAR = 2022\n",
    "\""
   ]
  },
  {
   "cell_type": "code",
   "execution_count": 10,
   "id": "08ae9dd7-eb09-40c2-86af-3f166e473b89",
   "metadata": {},
   "outputs": [
    {
     "name": "stderr",
     "output_type": "stream",
     "text": [
      "Don't forget to authenticate with Kerberos using kinit\n",
      "\n"
     ]
    }
   ],
   "source": [
    "edits_blocked_events <-  wmfdata::query_hive(query)"
   ]
  },
  {
   "cell_type": "markdown",
   "id": "3a9be366-0e09-48aa-93b0-7999de88cdb4",
   "metadata": {},
   "source": [
    "## Block Types"
   ]
  },
  {
   "cell_type": "code",
   "execution_count": 11,
   "id": "1f210f0b-e1d2-45d9-a470-f5967097b535",
   "metadata": {},
   "outputs": [
    {
     "name": "stderr",
     "output_type": "stream",
     "text": [
      "`summarise()` ungrouping output (override with `.groups` argument)\n",
      "\n"
     ]
    },
    {
     "data": {
      "text/html": [
       "<table>\n",
       "<caption>A tibble: 4 × 4</caption>\n",
       "<thead>\n",
       "\t<tr><th scope=col>block_type</th><th scope=col>n_events</th><th scope=col>n_users</th><th scope=col>pct_users</th></tr>\n",
       "\t<tr><th scope=col>&lt;chr&gt;</th><th scope=col>&lt;int&gt;</th><th scope=col>&lt;int&gt;</th><th scope=col>&lt;dbl&gt;</th></tr>\n",
       "</thead>\n",
       "<tbody>\n",
       "\t<tr><td>autoblock</td><td>   1520</td><td> 124</td><td>0.017</td></tr>\n",
       "\t<tr><td>ip       </td><td>1466221</td><td>1177</td><td>0.162</td></tr>\n",
       "\t<tr><td>range    </td><td>6598136</td><td>3169</td><td>0.437</td></tr>\n",
       "\t<tr><td>user     </td><td>  10860</td><td>2782</td><td>0.384</td></tr>\n",
       "</tbody>\n",
       "</table>\n"
      ],
      "text/latex": [
       "A tibble: 4 × 4\n",
       "\\begin{tabular}{llll}\n",
       " block\\_type & n\\_events & n\\_users & pct\\_users\\\\\n",
       " <chr> & <int> & <int> & <dbl>\\\\\n",
       "\\hline\n",
       "\t autoblock &    1520 &  124 & 0.017\\\\\n",
       "\t ip        & 1466221 & 1177 & 0.162\\\\\n",
       "\t range     & 6598136 & 3169 & 0.437\\\\\n",
       "\t user      &   10860 & 2782 & 0.384\\\\\n",
       "\\end{tabular}\n"
      ],
      "text/markdown": [
       "\n",
       "A tibble: 4 × 4\n",
       "\n",
       "| block_type &lt;chr&gt; | n_events &lt;int&gt; | n_users &lt;int&gt; | pct_users &lt;dbl&gt; |\n",
       "|---|---|---|---|\n",
       "| autoblock |    1520 |  124 | 0.017 |\n",
       "| ip        | 1466221 | 1177 | 0.162 |\n",
       "| range     | 6598136 | 3169 | 0.437 |\n",
       "| user      |   10860 | 2782 | 0.384 |\n",
       "\n"
      ],
      "text/plain": [
       "  block_type n_events n_users pct_users\n",
       "1 autoblock     1520   124    0.017    \n",
       "2 ip         1466221  1177    0.162    \n",
       "3 range      6598136  3169    0.437    \n",
       "4 user         10860  2782    0.384    "
      ]
     },
     "metadata": {},
     "output_type": "display_data"
    }
   ],
   "source": [
    "edits_blocked_bytype <- edits_blocked_events %>%\n",
    "  group_by(block_type) %>%\n",
    "    summarise(n_events = n(),\n",
    "             n_users = n_distinct(user_id))  %>%\n",
    "mutate(pct_users = round(n_users / sum(n_users), 3)) \n",
    "\n",
    "edits_blocked_bytype"
   ]
  },
  {
   "cell_type": "markdown",
   "id": "03ec2b22-6e39-4cd0-96fd-5609f7e7c777",
   "metadata": {},
   "source": [
    "## Block Events by platform"
   ]
  },
  {
   "cell_type": "code",
   "execution_count": 12,
   "id": "d320e46a-082a-4a2c-9228-55c374194964",
   "metadata": {},
   "outputs": [
    {
     "name": "stderr",
     "output_type": "stream",
     "text": [
      "`summarise()` ungrouping output (override with `.groups` argument)\n",
      "\n"
     ]
    },
    {
     "data": {
      "text/html": [
       "<table>\n",
       "<caption>A tibble: 2 × 4</caption>\n",
       "<thead>\n",
       "\t<tr><th scope=col>platform</th><th scope=col>n_events</th><th scope=col>n_users</th><th scope=col>pct_events</th></tr>\n",
       "\t<tr><th scope=col>&lt;chr&gt;</th><th scope=col>&lt;int&gt;</th><th scope=col>&lt;int&gt;</th><th scope=col>&lt;dbl&gt;</th></tr>\n",
       "</thead>\n",
       "<tbody>\n",
       "\t<tr><td>desktop</td><td>7402183</td><td>5691</td><td>0.916</td></tr>\n",
       "\t<tr><td>mobile </td><td> 674554</td><td>1601</td><td>0.084</td></tr>\n",
       "</tbody>\n",
       "</table>\n"
      ],
      "text/latex": [
       "A tibble: 2 × 4\n",
       "\\begin{tabular}{llll}\n",
       " platform & n\\_events & n\\_users & pct\\_events\\\\\n",
       " <chr> & <int> & <int> & <dbl>\\\\\n",
       "\\hline\n",
       "\t desktop & 7402183 & 5691 & 0.916\\\\\n",
       "\t mobile  &  674554 & 1601 & 0.084\\\\\n",
       "\\end{tabular}\n"
      ],
      "text/markdown": [
       "\n",
       "A tibble: 2 × 4\n",
       "\n",
       "| platform &lt;chr&gt; | n_events &lt;int&gt; | n_users &lt;int&gt; | pct_events &lt;dbl&gt; |\n",
       "|---|---|---|---|\n",
       "| desktop | 7402183 | 5691 | 0.916 |\n",
       "| mobile  |  674554 | 1601 | 0.084 |\n",
       "\n"
      ],
      "text/plain": [
       "  platform n_events n_users pct_events\n",
       "1 desktop  7402183  5691    0.916     \n",
       "2 mobile    674554  1601    0.084     "
      ]
     },
     "metadata": {},
     "output_type": "display_data"
    }
   ],
   "source": [
    "edits_blocked_byplatform <- edits_blocked_events %>%\n",
    "  group_by(platform) %>%\n",
    "    summarise(n_events = n(),\n",
    "             n_users = n_distinct(user_id)) %>%\n",
    "mutate(pct_events = round(n_events / sum(n_events), 3)) \n",
    "\n",
    "edits_blocked_byplatform"
   ]
  },
  {
   "cell_type": "markdown",
   "id": "2786a8ae-b8de-4068-9c0f-a4150b1296b3",
   "metadata": {},
   "source": [
    "# Block Events by Interface"
   ]
  },
  {
   "cell_type": "code",
   "execution_count": 13,
   "id": "ba437592-c60d-484d-8453-debf3088ff53",
   "metadata": {},
   "outputs": [
    {
     "name": "stderr",
     "output_type": "stream",
     "text": [
      "`summarise()` ungrouping output (override with `.groups` argument)\n",
      "\n"
     ]
    },
    {
     "data": {
      "text/html": [
       "<table>\n",
       "<caption>A tibble: 4 × 4</caption>\n",
       "<thead>\n",
       "\t<tr><th scope=col>interface</th><th scope=col>n_events</th><th scope=col>n_users</th><th scope=col>pct_users</th></tr>\n",
       "\t<tr><th scope=col>&lt;chr&gt;</th><th scope=col>&lt;int&gt;</th><th scope=col>&lt;int&gt;</th><th scope=col>&lt;dbl&gt;</th></tr>\n",
       "</thead>\n",
       "<tbody>\n",
       "\t<tr><td>discussiontools</td><td>   7880</td><td> 504</td><td>0.062</td></tr>\n",
       "\t<tr><td>mobilefrontend </td><td> 673580</td><td>1583</td><td>0.193</td></tr>\n",
       "\t<tr><td>visualeditor   </td><td> 213207</td><td>2094</td><td>0.256</td></tr>\n",
       "\t<tr><td>wikieditor     </td><td>7182070</td><td>4009</td><td>0.489</td></tr>\n",
       "</tbody>\n",
       "</table>\n"
      ],
      "text/latex": [
       "A tibble: 4 × 4\n",
       "\\begin{tabular}{llll}\n",
       " interface & n\\_events & n\\_users & pct\\_users\\\\\n",
       " <chr> & <int> & <int> & <dbl>\\\\\n",
       "\\hline\n",
       "\t discussiontools &    7880 &  504 & 0.062\\\\\n",
       "\t mobilefrontend  &  673580 & 1583 & 0.193\\\\\n",
       "\t visualeditor    &  213207 & 2094 & 0.256\\\\\n",
       "\t wikieditor      & 7182070 & 4009 & 0.489\\\\\n",
       "\\end{tabular}\n"
      ],
      "text/markdown": [
       "\n",
       "A tibble: 4 × 4\n",
       "\n",
       "| interface &lt;chr&gt; | n_events &lt;int&gt; | n_users &lt;int&gt; | pct_users &lt;dbl&gt; |\n",
       "|---|---|---|---|\n",
       "| discussiontools |    7880 |  504 | 0.062 |\n",
       "| mobilefrontend  |  673580 | 1583 | 0.193 |\n",
       "| visualeditor    |  213207 | 2094 | 0.256 |\n",
       "| wikieditor      | 7182070 | 4009 | 0.489 |\n",
       "\n"
      ],
      "text/plain": [
       "  interface       n_events n_users pct_users\n",
       "1 discussiontools    7880   504    0.062    \n",
       "2 mobilefrontend   673580  1583    0.193    \n",
       "3 visualeditor     213207  2094    0.256    \n",
       "4 wikieditor      7182070  4009    0.489    "
      ]
     },
     "metadata": {},
     "output_type": "display_data"
    }
   ],
   "source": [
    "edits_blocked_byinterface <- edits_blocked_events %>%\n",
    "  group_by(interface) %>%\n",
    "    summarise(n_events = n(),\n",
    "             n_users = n_distinct(user_id)) %>%\n",
    "mutate(pct_users = round(n_users / sum(n_users), 3)) \n",
    "\n",
    "edits_blocked_byinterface"
   ]
  },
  {
   "cell_type": "markdown",
   "id": "4125da0e-cde3-43ff-99d7-82338e6be613",
   "metadata": {},
   "source": [
    "## Block Events by anon or logged in"
   ]
  },
  {
   "cell_type": "code",
   "execution_count": 14,
   "id": "289f77ae-aee5-4a95-83dd-77f559613c97",
   "metadata": {},
   "outputs": [
    {
     "name": "stderr",
     "output_type": "stream",
     "text": [
      "`summarise()` ungrouping output (override with `.groups` argument)\n",
      "\n"
     ]
    },
    {
     "data": {
      "text/html": [
       "<table>\n",
       "<caption>A tibble: 2 × 3</caption>\n",
       "<thead>\n",
       "\t<tr><th scope=col>isanon</th><th scope=col>n_events</th><th scope=col>n_users</th></tr>\n",
       "\t<tr><th scope=col>&lt;chr&gt;</th><th scope=col>&lt;int&gt;</th><th scope=col>&lt;int&gt;</th></tr>\n",
       "</thead>\n",
       "<tbody>\n",
       "\t<tr><td>false</td><td>  21455</td><td>6993</td></tr>\n",
       "\t<tr><td>true </td><td>8055282</td><td>   1</td></tr>\n",
       "</tbody>\n",
       "</table>\n"
      ],
      "text/latex": [
       "A tibble: 2 × 3\n",
       "\\begin{tabular}{lll}\n",
       " isanon & n\\_events & n\\_users\\\\\n",
       " <chr> & <int> & <int>\\\\\n",
       "\\hline\n",
       "\t false &   21455 & 6993\\\\\n",
       "\t true  & 8055282 &    1\\\\\n",
       "\\end{tabular}\n"
      ],
      "text/markdown": [
       "\n",
       "A tibble: 2 × 3\n",
       "\n",
       "| isanon &lt;chr&gt; | n_events &lt;int&gt; | n_users &lt;int&gt; |\n",
       "|---|---|---|\n",
       "| false |   21455 | 6993 |\n",
       "| true  | 8055282 |    1 |\n",
       "\n"
      ],
      "text/plain": [
       "  isanon n_events n_users\n",
       "1 false    21455  6993   \n",
       "2 true   8055282     1   "
      ]
     },
     "metadata": {},
     "output_type": "display_data"
    }
   ],
   "source": [
    "edits_blocked_byanon <- edits_blocked_events %>%\n",
    "  mutate(isanon = ifelse(user_id == 0, \"true\", \"false\")) %>%\n",
    "  group_by(isanon) %>%\n",
    "    summarise(n_events = n(),\n",
    "             n_users = n_distinct(user_id)) \n",
    "\n",
    "edits_blocked_byanon"
   ]
  },
  {
   "cell_type": "markdown",
   "id": "51710730-ed2c-4c3e-8131-bbcf3203979c",
   "metadata": {},
   "source": [
    "Confirmed both blocks for anon and registered users are included. All anon users are correctly tagged with a user id of 0. "
   ]
  },
  {
   "cell_type": "markdown",
   "id": "2a28e406-c8da-4c23-8fdb-7629bd7fa6eb",
   "metadata": {},
   "source": [
    "## Block Events by Block Scope"
   ]
  },
  {
   "cell_type": "code",
   "execution_count": 15,
   "id": "47c3b972-ff7a-40be-b62c-10788b73832f",
   "metadata": {},
   "outputs": [
    {
     "name": "stderr",
     "output_type": "stream",
     "text": [
      "`summarise()` ungrouping output (override with `.groups` argument)\n",
      "\n"
     ]
    },
    {
     "data": {
      "text/html": [
       "<table>\n",
       "<caption>A tibble: 2 × 4</caption>\n",
       "<thead>\n",
       "\t<tr><th scope=col>block_scope</th><th scope=col>n_events</th><th scope=col>n_users</th><th scope=col>pct_events</th></tr>\n",
       "\t<tr><th scope=col>&lt;chr&gt;</th><th scope=col>&lt;int&gt;</th><th scope=col>&lt;int&gt;</th><th scope=col>&lt;dbl&gt;</th></tr>\n",
       "</thead>\n",
       "<tbody>\n",
       "\t<tr><td>global</td><td>2878909</td><td>1197</td><td>0.356</td></tr>\n",
       "\t<tr><td>local </td><td>5197828</td><td>5893</td><td>0.644</td></tr>\n",
       "</tbody>\n",
       "</table>\n"
      ],
      "text/latex": [
       "A tibble: 2 × 4\n",
       "\\begin{tabular}{llll}\n",
       " block\\_scope & n\\_events & n\\_users & pct\\_events\\\\\n",
       " <chr> & <int> & <int> & <dbl>\\\\\n",
       "\\hline\n",
       "\t global & 2878909 & 1197 & 0.356\\\\\n",
       "\t local  & 5197828 & 5893 & 0.644\\\\\n",
       "\\end{tabular}\n"
      ],
      "text/markdown": [
       "\n",
       "A tibble: 2 × 4\n",
       "\n",
       "| block_scope &lt;chr&gt; | n_events &lt;int&gt; | n_users &lt;int&gt; | pct_events &lt;dbl&gt; |\n",
       "|---|---|---|---|\n",
       "| global | 2878909 | 1197 | 0.356 |\n",
       "| local  | 5197828 | 5893 | 0.644 |\n",
       "\n"
      ],
      "text/plain": [
       "  block_scope n_events n_users pct_events\n",
       "1 global      2878909  1197    0.356     \n",
       "2 local       5197828  5893    0.644     "
      ]
     },
     "metadata": {},
     "output_type": "display_data"
    }
   ],
   "source": [
    "edits_blocked_byscope <- edits_blocked_events %>%\n",
    "  group_by(block_scope) %>%\n",
    "    summarise(n_events = n(),\n",
    "             n_users = n_distinct(user_id)) %>%\n",
    "mutate(pct_events = round(n_events / sum(n_events), 3)) \n",
    "\n",
    "edits_blocked_byscope"
   ]
  },
  {
   "cell_type": "markdown",
   "id": "1b318106-a663-4c7a-ba70-0bad23af43fe",
   "metadata": {},
   "source": [
    "## Block Expiration"
   ]
  },
  {
   "cell_type": "code",
   "execution_count": 16,
   "id": "aed3d7b6-ccc1-4a7b-b1d9-f09472f4fa2d",
   "metadata": {},
   "outputs": [
    {
     "name": "stderr",
     "output_type": "stream",
     "text": [
      "`summarise()` ungrouping output (override with `.groups` argument)\n",
      "\n"
     ]
    },
    {
     "data": {
      "text/html": [
       "<table>\n",
       "<caption>A tibble: 2 × 4</caption>\n",
       "<thead>\n",
       "\t<tr><th scope=col>is_infinite</th><th scope=col>n_events</th><th scope=col>n_users</th><th scope=col>pct_users</th></tr>\n",
       "\t<tr><th scope=col>&lt;chr&gt;</th><th scope=col>&lt;int&gt;</th><th scope=col>&lt;int&gt;</th><th scope=col>&lt;dbl&gt;</th></tr>\n",
       "</thead>\n",
       "<tbody>\n",
       "\t<tr><td>false</td><td>7828840</td><td>4386</td><td>0.622</td></tr>\n",
       "\t<tr><td>true </td><td> 247897</td><td>2661</td><td>0.378</td></tr>\n",
       "</tbody>\n",
       "</table>\n"
      ],
      "text/latex": [
       "A tibble: 2 × 4\n",
       "\\begin{tabular}{llll}\n",
       " is\\_infinite & n\\_events & n\\_users & pct\\_users\\\\\n",
       " <chr> & <int> & <int> & <dbl>\\\\\n",
       "\\hline\n",
       "\t false & 7828840 & 4386 & 0.622\\\\\n",
       "\t true  &  247897 & 2661 & 0.378\\\\\n",
       "\\end{tabular}\n"
      ],
      "text/markdown": [
       "\n",
       "A tibble: 2 × 4\n",
       "\n",
       "| is_infinite &lt;chr&gt; | n_events &lt;int&gt; | n_users &lt;int&gt; | pct_users &lt;dbl&gt; |\n",
       "|---|---|---|---|\n",
       "| false | 7828840 | 4386 | 0.622 |\n",
       "| true  |  247897 | 2661 | 0.378 |\n",
       "\n"
      ],
      "text/plain": [
       "  is_infinite n_events n_users pct_users\n",
       "1 false       7828840  4386    0.622    \n",
       "2 true         247897  2661    0.378    "
      ]
     },
     "metadata": {},
     "output_type": "display_data"
    }
   ],
   "source": [
    "edits_blocked_byexpiry <- edits_blocked_events %>%\n",
    "  mutate(is_infinite = ifelse(block_expiry == 'infinity', \"true\", \"false\")) %>%\n",
    "  group_by(is_infinite) %>%\n",
    "    summarise(n_events = n(),\n",
    "             n_users = n_distinct(user_id)) %>%\n",
    "mutate(pct_users = round(n_users / sum(n_users), 3)) \n",
    "\n",
    "edits_blocked_byexpiry"
   ]
  },
  {
   "cell_type": "code",
   "execution_count": null,
   "id": "e2d2f4b7-7843-4d64-b554-dbcba45bd97f",
   "metadata": {},
   "outputs": [],
   "source": [
    "Both infinite and non-infinite blocks have been logged."
   ]
  },
  {
   "cell_type": "code",
   "execution_count": 17,
   "id": "ad0d14c2-8292-4764-b0a1-05a894a64900",
   "metadata": {},
   "outputs": [
    {
     "name": "stderr",
     "output_type": "stream",
     "text": [
      "`summarise()` ungrouping output (override with `.groups` argument)\n",
      "\n"
     ]
    },
    {
     "data": {
      "text/html": [
       "<table>\n",
       "<caption>A tibble: 6 × 2</caption>\n",
       "<thead>\n",
       "\t<tr><th scope=col>block_expiry</th><th scope=col>n_events</th></tr>\n",
       "\t<tr><th scope=col>&lt;chr&gt;</th><th scope=col>&lt;int&gt;</th></tr>\n",
       "</thead>\n",
       "<tbody>\n",
       "\t<tr><td>2022-10-12T22:41:35Z</td><td>10</td></tr>\n",
       "\t<tr><td>2022-10-12T23:08:11Z</td><td> 1</td></tr>\n",
       "\t<tr><td>2022-10-12T23:10:04Z</td><td>11</td></tr>\n",
       "\t<tr><td>2022-10-13T00:06:06Z</td><td> 1</td></tr>\n",
       "\t<tr><td>2022-10-13T00:13:35Z</td><td> 2</td></tr>\n",
       "\t<tr><td>2022-10-13T00:19:09Z</td><td> 9</td></tr>\n",
       "</tbody>\n",
       "</table>\n"
      ],
      "text/latex": [
       "A tibble: 6 × 2\n",
       "\\begin{tabular}{ll}\n",
       " block\\_expiry & n\\_events\\\\\n",
       " <chr> & <int>\\\\\n",
       "\\hline\n",
       "\t 2022-10-12T22:41:35Z & 10\\\\\n",
       "\t 2022-10-12T23:08:11Z &  1\\\\\n",
       "\t 2022-10-12T23:10:04Z & 11\\\\\n",
       "\t 2022-10-13T00:06:06Z &  1\\\\\n",
       "\t 2022-10-13T00:13:35Z &  2\\\\\n",
       "\t 2022-10-13T00:19:09Z &  9\\\\\n",
       "\\end{tabular}\n"
      ],
      "text/markdown": [
       "\n",
       "A tibble: 6 × 2\n",
       "\n",
       "| block_expiry &lt;chr&gt; | n_events &lt;int&gt; |\n",
       "|---|---|\n",
       "| 2022-10-12T22:41:35Z | 10 |\n",
       "| 2022-10-12T23:08:11Z |  1 |\n",
       "| 2022-10-12T23:10:04Z | 11 |\n",
       "| 2022-10-13T00:06:06Z |  1 |\n",
       "| 2022-10-13T00:13:35Z |  2 |\n",
       "| 2022-10-13T00:19:09Z |  9 |\n",
       "\n"
      ],
      "text/plain": [
       "  block_expiry         n_events\n",
       "1 2022-10-12T22:41:35Z 10      \n",
       "2 2022-10-12T23:08:11Z  1      \n",
       "3 2022-10-12T23:10:04Z 11      \n",
       "4 2022-10-13T00:06:06Z  1      \n",
       "5 2022-10-13T00:13:35Z  2      \n",
       "6 2022-10-13T00:19:09Z  9      "
      ]
     },
     "metadata": {},
     "output_type": "display_data"
    }
   ],
   "source": [
    "#quick check of block expiration dates\n",
    "edits_blocked_exp_date <- edits_blocked_events %>%\n",
    "  group_by(block_expiry) %>%\n",
    "    summarise(n_events = n()) %>%\n",
    "  arrange(block_expiry)\n",
    "\n",
    "head(edits_blocked_exp_date)\n"
   ]
  },
  {
   "cell_type": "markdown",
   "id": "9bdc2b6c-1351-4080-88ca-4ac296301179",
   "metadata": {},
   "source": [
    "The earliest block expirated date logged is on 12 October 2022, which is the date we started logging events. Let's make sure that also the earliest time logged for when the blocks occurred."
   ]
  },
  {
   "cell_type": "markdown",
   "id": "d388fee4-0f6b-4830-bddc-029e502e5ee1",
   "metadata": {},
   "source": [
    "## Block Time"
   ]
  },
  {
   "cell_type": "code",
   "execution_count": 18,
   "id": "adbc4178-e214-436a-947c-512e0e91fc2e",
   "metadata": {},
   "outputs": [
    {
     "name": "stderr",
     "output_type": "stream",
     "text": [
      "`summarise()` ungrouping output (override with `.groups` argument)\n",
      "\n"
     ]
    },
    {
     "data": {
      "text/html": [
       "<table>\n",
       "<caption>A tibble: 6 × 2</caption>\n",
       "<thead>\n",
       "\t<tr><th scope=col>block_time</th><th scope=col>n_events</th></tr>\n",
       "\t<tr><th scope=col>&lt;chr&gt;</th><th scope=col>&lt;int&gt;</th></tr>\n",
       "</thead>\n",
       "<tbody>\n",
       "\t<tr><td>2022-10-12</td><td>  95976</td></tr>\n",
       "\t<tr><td>2022-10-13</td><td>1116715</td></tr>\n",
       "\t<tr><td>2022-10-14</td><td>1074355</td></tr>\n",
       "\t<tr><td>2022-10-15</td><td>1018007</td></tr>\n",
       "\t<tr><td>2022-10-16</td><td>1078969</td></tr>\n",
       "\t<tr><td>2022-10-17</td><td>1148724</td></tr>\n",
       "</tbody>\n",
       "</table>\n"
      ],
      "text/latex": [
       "A tibble: 6 × 2\n",
       "\\begin{tabular}{ll}\n",
       " block\\_time & n\\_events\\\\\n",
       " <chr> & <int>\\\\\n",
       "\\hline\n",
       "\t 2022-10-12 &   95976\\\\\n",
       "\t 2022-10-13 & 1116715\\\\\n",
       "\t 2022-10-14 & 1074355\\\\\n",
       "\t 2022-10-15 & 1018007\\\\\n",
       "\t 2022-10-16 & 1078969\\\\\n",
       "\t 2022-10-17 & 1148724\\\\\n",
       "\\end{tabular}\n"
      ],
      "text/markdown": [
       "\n",
       "A tibble: 6 × 2\n",
       "\n",
       "| block_time &lt;chr&gt; | n_events &lt;int&gt; |\n",
       "|---|---|\n",
       "| 2022-10-12 |   95976 |\n",
       "| 2022-10-13 | 1116715 |\n",
       "| 2022-10-14 | 1074355 |\n",
       "| 2022-10-15 | 1018007 |\n",
       "| 2022-10-16 | 1078969 |\n",
       "| 2022-10-17 | 1148724 |\n",
       "\n"
      ],
      "text/plain": [
       "  block_time n_events\n",
       "1 2022-10-12   95976 \n",
       "2 2022-10-13 1116715 \n",
       "3 2022-10-14 1074355 \n",
       "4 2022-10-15 1018007 \n",
       "5 2022-10-16 1078969 \n",
       "6 2022-10-17 1148724 "
      ]
     },
     "metadata": {},
     "output_type": "display_data"
    }
   ],
   "source": [
    "#quick check of block expiration dates\n",
    "edits_blocked_date <- edits_blocked_events %>%\n",
    "  group_by(block_time) %>%\n",
    "    summarise(n_events = n()) %>%\n",
    "  arrange(block_time)\n",
    "\n",
    "head(edits_blocked_date)"
   ]
  },
  {
   "cell_type": "code",
   "execution_count": null,
   "id": "437582e2-c2b1-4c61-8c5c-c70cb8615475",
   "metadata": {},
   "outputs": [],
   "source": [
    "We first start logging events on `2022-10-12` as expected."
   ]
  },
  {
   "cell_type": "markdown",
   "id": "f8cff35d-2643-4c21-bf91-b8b91bd4e8c5",
   "metadata": {},
   "source": [
    "## Blocks by Country Code"
   ]
  },
  {
   "cell_type": "code",
   "execution_count": 19,
   "id": "d48032a6-0f47-404a-b292-c642b3d760d4",
   "metadata": {},
   "outputs": [
    {
     "name": "stderr",
     "output_type": "stream",
     "text": [
      "`summarise()` ungrouping output (override with `.groups` argument)\n",
      "\n"
     ]
    },
    {
     "data": {
      "text/html": [
       "<table>\n",
       "<caption>A tibble: 6 × 4</caption>\n",
       "<thead>\n",
       "\t<tr><th scope=col>country_code</th><th scope=col>n_events</th><th scope=col>n_users</th><th scope=col>pct_users</th></tr>\n",
       "\t<tr><th scope=col>&lt;chr&gt;</th><th scope=col>&lt;int&gt;</th><th scope=col>&lt;int&gt;</th><th scope=col>&lt;dbl&gt;</th></tr>\n",
       "</thead>\n",
       "<tbody>\n",
       "\t<tr><td>US</td><td>2506830</td><td>1410</td><td>0.185</td></tr>\n",
       "\t<tr><td>CA</td><td>1390084</td><td> 200</td><td>0.026</td></tr>\n",
       "\t<tr><td>DE</td><td> 719657</td><td> 343</td><td>0.045</td></tr>\n",
       "\t<tr><td>RU</td><td> 653564</td><td> 391</td><td>0.051</td></tr>\n",
       "\t<tr><td>HK</td><td> 309201</td><td> 189</td><td>0.025</td></tr>\n",
       "\t<tr><td>BE</td><td> 303395</td><td>  38</td><td>0.005</td></tr>\n",
       "</tbody>\n",
       "</table>\n"
      ],
      "text/latex": [
       "A tibble: 6 × 4\n",
       "\\begin{tabular}{llll}\n",
       " country\\_code & n\\_events & n\\_users & pct\\_users\\\\\n",
       " <chr> & <int> & <int> & <dbl>\\\\\n",
       "\\hline\n",
       "\t US & 2506830 & 1410 & 0.185\\\\\n",
       "\t CA & 1390084 &  200 & 0.026\\\\\n",
       "\t DE &  719657 &  343 & 0.045\\\\\n",
       "\t RU &  653564 &  391 & 0.051\\\\\n",
       "\t HK &  309201 &  189 & 0.025\\\\\n",
       "\t BE &  303395 &   38 & 0.005\\\\\n",
       "\\end{tabular}\n"
      ],
      "text/markdown": [
       "\n",
       "A tibble: 6 × 4\n",
       "\n",
       "| country_code &lt;chr&gt; | n_events &lt;int&gt; | n_users &lt;int&gt; | pct_users &lt;dbl&gt; |\n",
       "|---|---|---|---|\n",
       "| US | 2506830 | 1410 | 0.185 |\n",
       "| CA | 1390084 |  200 | 0.026 |\n",
       "| DE |  719657 |  343 | 0.045 |\n",
       "| RU |  653564 |  391 | 0.051 |\n",
       "| HK |  309201 |  189 | 0.025 |\n",
       "| BE |  303395 |   38 | 0.005 |\n",
       "\n"
      ],
      "text/plain": [
       "  country_code n_events n_users pct_users\n",
       "1 US           2506830  1410    0.185    \n",
       "2 CA           1390084   200    0.026    \n",
       "3 DE            719657   343    0.045    \n",
       "4 RU            653564   391    0.051    \n",
       "5 HK            309201   189    0.025    \n",
       "6 BE            303395    38    0.005    "
      ]
     },
     "metadata": {},
     "output_type": "display_data"
    }
   ],
   "source": [
    "#quick check of block expiration dates\n",
    "edits_blocked_bycountry <- edits_blocked_events %>%\n",
    "  group_by(country_code) %>%\n",
    "    summarise(n_events = n(),\n",
    "             n_users = n_distinct(user_id)) %>%\n",
    "mutate(pct_users = round(n_users / sum(n_users), 3)) %>%\n",
    "   arrange(desc(n_events)) \n",
    "\n",
    "head(edits_blocked_bycountry)"
   ]
  },
  {
   "cell_type": "markdown",
   "id": "4b972f93-9958-4f72-9c02-e4e5114b2158",
   "metadata": {},
   "source": [
    "There's some instances where the country code field is logged as a long string vs a country code.  Taking a close look at those:"
   ]
  },
  {
   "cell_type": "markdown",
   "id": "da2221df-44fa-4488-8831-605bb55bad20",
   "metadata": {},
   "source": [
    "### Country Code Issues"
   ]
  },
  {
   "cell_type": "code",
   "execution_count": 20,
   "id": "0216cf8c-e124-49d8-9419-d104f82db8f3",
   "metadata": {},
   "outputs": [
    {
     "name": "stderr",
     "output_type": "stream",
     "text": [
      "`summarise()` ungrouping output (override with `.groups` argument)\n",
      "\n"
     ]
    },
    {
     "data": {
      "text/html": [
       "<table>\n",
       "<caption>A tibble: 6 × 4</caption>\n",
       "<thead>\n",
       "\t<tr><th scope=col>country_code</th><th scope=col>n_events</th><th scope=col>n_users</th><th scope=col>pct_users</th></tr>\n",
       "\t<tr><th scope=col>&lt;chr&gt;</th><th scope=col>&lt;int&gt;</th><th scope=col>&lt;int&gt;</th><th scope=col>&lt;dbl&gt;</th></tr>\n",
       "</thead>\n",
       "<tbody>\n",
       "\t<tr><td>'\"()&amp;%&lt;acx&gt;&lt;ScRiPt &gt;1pVo(9336)&lt;/ScRiPt&gt;</td><td>1</td><td>1</td><td>0</td></tr>\n",
       "\t<tr><td>'\"()&amp;%&lt;acx&gt;&lt;ScRiPt &gt;1TBU(9672)&lt;/ScRiPt&gt;</td><td>1</td><td>1</td><td>0</td></tr>\n",
       "\t<tr><td>'\"()&amp;%&lt;acx&gt;&lt;ScRiPt &gt;23hz(9646)&lt;/ScRiPt&gt;</td><td>1</td><td>1</td><td>0</td></tr>\n",
       "\t<tr><td>'\"()&amp;%&lt;acx&gt;&lt;ScRiPt &gt;26PX(9583)&lt;/ScRiPt&gt;</td><td>1</td><td>1</td><td>0</td></tr>\n",
       "\t<tr><td>'\"()&amp;%&lt;acx&gt;&lt;ScRiPt &gt;2asY(9963)&lt;/ScRiPt&gt;</td><td>1</td><td>1</td><td>0</td></tr>\n",
       "\t<tr><td>'\"()&amp;%&lt;acx&gt;&lt;ScRiPt &gt;2NsB(9331)&lt;/ScRiPt&gt;</td><td>1</td><td>1</td><td>0</td></tr>\n",
       "</tbody>\n",
       "</table>\n"
      ],
      "text/latex": [
       "A tibble: 6 × 4\n",
       "\\begin{tabular}{llll}\n",
       " country\\_code & n\\_events & n\\_users & pct\\_users\\\\\n",
       " <chr> & <int> & <int> & <dbl>\\\\\n",
       "\\hline\n",
       "\t '\"()\\&\\%<acx><ScRiPt >1pVo(9336)</ScRiPt> & 1 & 1 & 0\\\\\n",
       "\t '\"()\\&\\%<acx><ScRiPt >1TBU(9672)</ScRiPt> & 1 & 1 & 0\\\\\n",
       "\t '\"()\\&\\%<acx><ScRiPt >23hz(9646)</ScRiPt> & 1 & 1 & 0\\\\\n",
       "\t '\"()\\&\\%<acx><ScRiPt >26PX(9583)</ScRiPt> & 1 & 1 & 0\\\\\n",
       "\t '\"()\\&\\%<acx><ScRiPt >2asY(9963)</ScRiPt> & 1 & 1 & 0\\\\\n",
       "\t '\"()\\&\\%<acx><ScRiPt >2NsB(9331)</ScRiPt> & 1 & 1 & 0\\\\\n",
       "\\end{tabular}\n"
      ],
      "text/markdown": [
       "\n",
       "A tibble: 6 × 4\n",
       "\n",
       "| country_code &lt;chr&gt; | n_events &lt;int&gt; | n_users &lt;int&gt; | pct_users &lt;dbl&gt; |\n",
       "|---|---|---|---|\n",
       "| '\"()&amp;%&lt;acx&gt;&lt;ScRiPt &gt;1pVo(9336)&lt;/ScRiPt&gt; | 1 | 1 | 0 |\n",
       "| '\"()&amp;%&lt;acx&gt;&lt;ScRiPt &gt;1TBU(9672)&lt;/ScRiPt&gt; | 1 | 1 | 0 |\n",
       "| '\"()&amp;%&lt;acx&gt;&lt;ScRiPt &gt;23hz(9646)&lt;/ScRiPt&gt; | 1 | 1 | 0 |\n",
       "| '\"()&amp;%&lt;acx&gt;&lt;ScRiPt &gt;26PX(9583)&lt;/ScRiPt&gt; | 1 | 1 | 0 |\n",
       "| '\"()&amp;%&lt;acx&gt;&lt;ScRiPt &gt;2asY(9963)&lt;/ScRiPt&gt; | 1 | 1 | 0 |\n",
       "| '\"()&amp;%&lt;acx&gt;&lt;ScRiPt &gt;2NsB(9331)&lt;/ScRiPt&gt; | 1 | 1 | 0 |\n",
       "\n"
      ],
      "text/plain": [
       "  country_code                            n_events n_users pct_users\n",
       "1 '\"()&%<acx><ScRiPt >1pVo(9336)</ScRiPt> 1        1       0        \n",
       "2 '\"()&%<acx><ScRiPt >1TBU(9672)</ScRiPt> 1        1       0        \n",
       "3 '\"()&%<acx><ScRiPt >23hz(9646)</ScRiPt> 1        1       0        \n",
       "4 '\"()&%<acx><ScRiPt >26PX(9583)</ScRiPt> 1        1       0        \n",
       "5 '\"()&%<acx><ScRiPt >2asY(9963)</ScRiPt> 1        1       0        \n",
       "6 '\"()&%<acx><ScRiPt >2NsB(9331)</ScRiPt> 1        1       0        "
      ]
     },
     "metadata": {},
     "output_type": "display_data"
    }
   ],
   "source": [
    "\n",
    "edits_blocked_bycountry_errors <- edits_blocked_events %>%\n",
    "  group_by(country_code) %>%\n",
    "    summarise(n_events = n(),\n",
    "             n_users = n_distinct(user_id)) %>%\n",
    "mutate(pct_users = round(n_users / sum(n_users), 3)) %>%\n",
    "     filter(str_length(country_code) > 2)  #find values that are are not 2 digit country code\n",
    "\n",
    "head (edits_blocked_bycountry_errors) "
   ]
  },
  {
   "cell_type": "code",
   "execution_count": 21,
   "id": "90c73828-4835-409f-86e0-17144e24496f",
   "metadata": {},
   "outputs": [
    {
     "name": "stderr",
     "output_type": "stream",
     "text": [
      "`summarise()` ungrouping output (override with `.groups` argument)\n",
      "\n"
     ]
    },
    {
     "data": {
      "text/html": [
       "<table>\n",
       "<caption>A tibble: 3 × 4</caption>\n",
       "<thead>\n",
       "\t<tr><th scope=col>error</th><th scope=col>n_events</th><th scope=col>n_users</th><th scope=col>pct_events</th></tr>\n",
       "\t<tr><th scope=col>&lt;chr&gt;</th><th scope=col>&lt;int&gt;</th><th scope=col>&lt;int&gt;</th><th scope=col>&lt;dbl&gt;</th></tr>\n",
       "</thead>\n",
       "<tbody>\n",
       "\t<tr><td>country_code_error</td><td>  90518</td><td>   7</td><td>0.011</td></tr>\n",
       "\t<tr><td>normal            </td><td>7986215</td><td>6990</td><td>0.989</td></tr>\n",
       "\t<tr><td>NA                </td><td>      4</td><td>   1</td><td>0.000</td></tr>\n",
       "</tbody>\n",
       "</table>\n"
      ],
      "text/latex": [
       "A tibble: 3 × 4\n",
       "\\begin{tabular}{llll}\n",
       " error & n\\_events & n\\_users & pct\\_events\\\\\n",
       " <chr> & <int> & <int> & <dbl>\\\\\n",
       "\\hline\n",
       "\t country\\_code\\_error &   90518 &    7 & 0.011\\\\\n",
       "\t normal             & 7986215 & 6990 & 0.989\\\\\n",
       "\t NA                 &       4 &    1 & 0.000\\\\\n",
       "\\end{tabular}\n"
      ],
      "text/markdown": [
       "\n",
       "A tibble: 3 × 4\n",
       "\n",
       "| error &lt;chr&gt; | n_events &lt;int&gt; | n_users &lt;int&gt; | pct_events &lt;dbl&gt; |\n",
       "|---|---|---|---|\n",
       "| country_code_error |   90518 |    7 | 0.011 |\n",
       "| normal             | 7986215 | 6990 | 0.989 |\n",
       "| NA                 |       4 |    1 | 0.000 |\n",
       "\n"
      ],
      "text/plain": [
       "  error              n_events n_users pct_events\n",
       "1 country_code_error   90518     7    0.011     \n",
       "2 normal             7986215  6990    0.989     \n",
       "3 NA                       4     1    0.000     "
      ]
     },
     "metadata": {},
     "output_type": "display_data"
    }
   ],
   "source": [
    "# find percent of these occurences\n",
    "edits_blocked_bycountry_errors <- edits_blocked_events %>%\n",
    "    mutate(error = ifelse(str_length(country_code) > 2, \"country_code_error\", \"normal\")) %>%\n",
    "  group_by(error) %>%\n",
    "    summarise(n_events = n(),\n",
    "             n_users = n_distinct(user_id)) %>%\n",
    "mutate(pct_events = round(n_events / sum(n_events), 3)) \n",
    "\n",
    "edits_blocked_bycountry_errors "
   ]
  },
  {
   "cell_type": "markdown",
   "id": "0ff88a00-6f82-42ff-8854-3e5a5d1b7ba1",
   "metadata": {},
   "source": [
    "## Block Types by Page Namespace"
   ]
  },
  {
   "cell_type": "code",
   "execution_count": 22,
   "id": "2a9daa0c-5ad0-43e0-9b81-2d854b60b8a7",
   "metadata": {},
   "outputs": [
    {
     "name": "stderr",
     "output_type": "stream",
     "text": [
      "`summarise()` ungrouping output (override with `.groups` argument)\n",
      "\n"
     ]
    },
    {
     "data": {
      "text/html": [
       "<table>\n",
       "<caption>A tibble: 67 × 2</caption>\n",
       "<thead>\n",
       "\t<tr><th scope=col>page_namespace</th><th scope=col>n_events</th></tr>\n",
       "\t<tr><th scope=col>&lt;int&gt;</th><th scope=col>&lt;int&gt;</th></tr>\n",
       "</thead>\n",
       "<tbody>\n",
       "\t<tr><td>  0</td><td>6979785</td></tr>\n",
       "\t<tr><td>  1</td><td>  86777</td></tr>\n",
       "\t<tr><td>  2</td><td> 109794</td></tr>\n",
       "\t<tr><td>  3</td><td> 124554</td></tr>\n",
       "\t<tr><td>  4</td><td> 178533</td></tr>\n",
       "\t<tr><td>  5</td><td>  17867</td></tr>\n",
       "\t<tr><td>  6</td><td>  38155</td></tr>\n",
       "\t<tr><td>  7</td><td>    697</td></tr>\n",
       "\t<tr><td>  8</td><td>   5739</td></tr>\n",
       "\t<tr><td>  9</td><td>    311</td></tr>\n",
       "\t<tr><td> 10</td><td> 316506</td></tr>\n",
       "\t<tr><td> 11</td><td>  23257</td></tr>\n",
       "\t<tr><td> 12</td><td>  12286</td></tr>\n",
       "\t<tr><td> 13</td><td>   1317</td></tr>\n",
       "\t<tr><td> 14</td><td> 107361</td></tr>\n",
       "\t<tr><td> 15</td><td>   1419</td></tr>\n",
       "\t<tr><td> 90</td><td>   1707</td></tr>\n",
       "\t<tr><td> 92</td><td>      6</td></tr>\n",
       "\t<tr><td>100</td><td>  21575</td></tr>\n",
       "\t<tr><td>101</td><td>    489</td></tr>\n",
       "\t<tr><td>102</td><td>   9854</td></tr>\n",
       "\t<tr><td>103</td><td>   2117</td></tr>\n",
       "\t<tr><td>104</td><td>   5711</td></tr>\n",
       "\t<tr><td>105</td><td>    105</td></tr>\n",
       "\t<tr><td>106</td><td>   1423</td></tr>\n",
       "\t<tr><td>107</td><td>     45</td></tr>\n",
       "\t<tr><td>108</td><td>    152</td></tr>\n",
       "\t<tr><td>109</td><td>      2</td></tr>\n",
       "\t<tr><td>110</td><td>    145</td></tr>\n",
       "\t<tr><td>111</td><td>      1</td></tr>\n",
       "\t<tr><td>⋮</td><td>⋮</td></tr>\n",
       "\t<tr><td> 121</td><td>  107</td></tr>\n",
       "\t<tr><td> 124</td><td>    1</td></tr>\n",
       "\t<tr><td> 128</td><td>  149</td></tr>\n",
       "\t<tr><td> 129</td><td>    2</td></tr>\n",
       "\t<tr><td> 130</td><td>    3</td></tr>\n",
       "\t<tr><td> 132</td><td>   80</td></tr>\n",
       "\t<tr><td> 133</td><td>    1</td></tr>\n",
       "\t<tr><td> 134</td><td>   47</td></tr>\n",
       "\t<tr><td> 136</td><td>    9</td></tr>\n",
       "\t<tr><td> 200</td><td> 3904</td></tr>\n",
       "\t<tr><td> 201</td><td>  508</td></tr>\n",
       "\t<tr><td> 202</td><td> 1264</td></tr>\n",
       "\t<tr><td> 203</td><td>  131</td></tr>\n",
       "\t<tr><td> 206</td><td>   31</td></tr>\n",
       "\t<tr><td> 207</td><td>    1</td></tr>\n",
       "\t<tr><td> 250</td><td>  118</td></tr>\n",
       "\t<tr><td> 252</td><td>   18</td></tr>\n",
       "\t<tr><td> 460</td><td>    3</td></tr>\n",
       "\t<tr><td> 470</td><td>   24</td></tr>\n",
       "\t<tr><td> 471</td><td>   19</td></tr>\n",
       "\t<tr><td> 482</td><td>    2</td></tr>\n",
       "\t<tr><td> 486</td><td>   26</td></tr>\n",
       "\t<tr><td> 487</td><td>    1</td></tr>\n",
       "\t<tr><td> 710</td><td>    4</td></tr>\n",
       "\t<tr><td> 828</td><td>18375</td></tr>\n",
       "\t<tr><td> 829</td><td>  229</td></tr>\n",
       "\t<tr><td> 866</td><td>   22</td></tr>\n",
       "\t<tr><td> 867</td><td>    1</td></tr>\n",
       "\t<tr><td>1198</td><td>  964</td></tr>\n",
       "\t<tr><td>1199</td><td>    4</td></tr>\n",
       "</tbody>\n",
       "</table>\n"
      ],
      "text/latex": [
       "A tibble: 67 × 2\n",
       "\\begin{tabular}{ll}\n",
       " page\\_namespace & n\\_events\\\\\n",
       " <int> & <int>\\\\\n",
       "\\hline\n",
       "\t   0 & 6979785\\\\\n",
       "\t   1 &   86777\\\\\n",
       "\t   2 &  109794\\\\\n",
       "\t   3 &  124554\\\\\n",
       "\t   4 &  178533\\\\\n",
       "\t   5 &   17867\\\\\n",
       "\t   6 &   38155\\\\\n",
       "\t   7 &     697\\\\\n",
       "\t   8 &    5739\\\\\n",
       "\t   9 &     311\\\\\n",
       "\t  10 &  316506\\\\\n",
       "\t  11 &   23257\\\\\n",
       "\t  12 &   12286\\\\\n",
       "\t  13 &    1317\\\\\n",
       "\t  14 &  107361\\\\\n",
       "\t  15 &    1419\\\\\n",
       "\t  90 &    1707\\\\\n",
       "\t  92 &       6\\\\\n",
       "\t 100 &   21575\\\\\n",
       "\t 101 &     489\\\\\n",
       "\t 102 &    9854\\\\\n",
       "\t 103 &    2117\\\\\n",
       "\t 104 &    5711\\\\\n",
       "\t 105 &     105\\\\\n",
       "\t 106 &    1423\\\\\n",
       "\t 107 &      45\\\\\n",
       "\t 108 &     152\\\\\n",
       "\t 109 &       2\\\\\n",
       "\t 110 &     145\\\\\n",
       "\t 111 &       1\\\\\n",
       "\t ⋮ & ⋮\\\\\n",
       "\t  121 &   107\\\\\n",
       "\t  124 &     1\\\\\n",
       "\t  128 &   149\\\\\n",
       "\t  129 &     2\\\\\n",
       "\t  130 &     3\\\\\n",
       "\t  132 &    80\\\\\n",
       "\t  133 &     1\\\\\n",
       "\t  134 &    47\\\\\n",
       "\t  136 &     9\\\\\n",
       "\t  200 &  3904\\\\\n",
       "\t  201 &   508\\\\\n",
       "\t  202 &  1264\\\\\n",
       "\t  203 &   131\\\\\n",
       "\t  206 &    31\\\\\n",
       "\t  207 &     1\\\\\n",
       "\t  250 &   118\\\\\n",
       "\t  252 &    18\\\\\n",
       "\t  460 &     3\\\\\n",
       "\t  470 &    24\\\\\n",
       "\t  471 &    19\\\\\n",
       "\t  482 &     2\\\\\n",
       "\t  486 &    26\\\\\n",
       "\t  487 &     1\\\\\n",
       "\t  710 &     4\\\\\n",
       "\t  828 & 18375\\\\\n",
       "\t  829 &   229\\\\\n",
       "\t  866 &    22\\\\\n",
       "\t  867 &     1\\\\\n",
       "\t 1198 &   964\\\\\n",
       "\t 1199 &     4\\\\\n",
       "\\end{tabular}\n"
      ],
      "text/markdown": [
       "\n",
       "A tibble: 67 × 2\n",
       "\n",
       "| page_namespace &lt;int&gt; | n_events &lt;int&gt; |\n",
       "|---|---|\n",
       "|   0 | 6979785 |\n",
       "|   1 |   86777 |\n",
       "|   2 |  109794 |\n",
       "|   3 |  124554 |\n",
       "|   4 |  178533 |\n",
       "|   5 |   17867 |\n",
       "|   6 |   38155 |\n",
       "|   7 |     697 |\n",
       "|   8 |    5739 |\n",
       "|   9 |     311 |\n",
       "|  10 |  316506 |\n",
       "|  11 |   23257 |\n",
       "|  12 |   12286 |\n",
       "|  13 |    1317 |\n",
       "|  14 |  107361 |\n",
       "|  15 |    1419 |\n",
       "|  90 |    1707 |\n",
       "|  92 |       6 |\n",
       "| 100 |   21575 |\n",
       "| 101 |     489 |\n",
       "| 102 |    9854 |\n",
       "| 103 |    2117 |\n",
       "| 104 |    5711 |\n",
       "| 105 |     105 |\n",
       "| 106 |    1423 |\n",
       "| 107 |      45 |\n",
       "| 108 |     152 |\n",
       "| 109 |       2 |\n",
       "| 110 |     145 |\n",
       "| 111 |       1 |\n",
       "| ⋮ | ⋮ |\n",
       "|  121 |   107 |\n",
       "|  124 |     1 |\n",
       "|  128 |   149 |\n",
       "|  129 |     2 |\n",
       "|  130 |     3 |\n",
       "|  132 |    80 |\n",
       "|  133 |     1 |\n",
       "|  134 |    47 |\n",
       "|  136 |     9 |\n",
       "|  200 |  3904 |\n",
       "|  201 |   508 |\n",
       "|  202 |  1264 |\n",
       "|  203 |   131 |\n",
       "|  206 |    31 |\n",
       "|  207 |     1 |\n",
       "|  250 |   118 |\n",
       "|  252 |    18 |\n",
       "|  460 |     3 |\n",
       "|  470 |    24 |\n",
       "|  471 |    19 |\n",
       "|  482 |     2 |\n",
       "|  486 |    26 |\n",
       "|  487 |     1 |\n",
       "|  710 |     4 |\n",
       "|  828 | 18375 |\n",
       "|  829 |   229 |\n",
       "|  866 |    22 |\n",
       "|  867 |     1 |\n",
       "| 1198 |   964 |\n",
       "| 1199 |     4 |\n",
       "\n"
      ],
      "text/plain": [
       "   page_namespace n_events\n",
       "1    0            6979785 \n",
       "2    1              86777 \n",
       "3    2             109794 \n",
       "4    3             124554 \n",
       "5    4             178533 \n",
       "6    5              17867 \n",
       "7    6              38155 \n",
       "8    7                697 \n",
       "9    8               5739 \n",
       "10   9                311 \n",
       "11  10             316506 \n",
       "12  11              23257 \n",
       "13  12              12286 \n",
       "14  13               1317 \n",
       "15  14             107361 \n",
       "16  15               1419 \n",
       "17  90               1707 \n",
       "18  92                  6 \n",
       "19 100              21575 \n",
       "20 101                489 \n",
       "21 102               9854 \n",
       "22 103               2117 \n",
       "23 104               5711 \n",
       "24 105                105 \n",
       "25 106               1423 \n",
       "26 107                 45 \n",
       "27 108                152 \n",
       "28 109                  2 \n",
       "29 110                145 \n",
       "30 111                  1 \n",
       "⋮  ⋮              ⋮       \n",
       "38  121             107   \n",
       "39  124               1   \n",
       "40  128             149   \n",
       "41  129               2   \n",
       "42  130               3   \n",
       "43  132              80   \n",
       "44  133               1   \n",
       "45  134              47   \n",
       "46  136               9   \n",
       "47  200            3904   \n",
       "48  201             508   \n",
       "49  202            1264   \n",
       "50  203             131   \n",
       "51  206              31   \n",
       "52  207               1   \n",
       "53  250             118   \n",
       "54  252              18   \n",
       "55  460               3   \n",
       "56  470              24   \n",
       "57  471              19   \n",
       "58  482               2   \n",
       "59  486              26   \n",
       "60  487               1   \n",
       "61  710               4   \n",
       "62  828           18375   \n",
       "63  829             229   \n",
       "64  866              22   \n",
       "65  867               1   \n",
       "66 1198             964   \n",
       "67 1199               4   "
      ]
     },
     "metadata": {},
     "output_type": "display_data"
    }
   ],
   "source": [
    "#quick check of block expiration dates\n",
    "edits_blocked_bynp <- edits_blocked_events %>%\n",
    "  group_by(page_namespace) %>%\n",
    "    summarise(n_events = n()) \n",
    "\n",
    "edits_blocked_bynp"
   ]
  },
  {
   "cell_type": "markdown",
   "id": "12fa62d7-1403-49a0-a358-7488e9f23e3f",
   "metadata": {},
   "source": [
    "## Edit Counts by Anon Users (Should always be 0)"
   ]
  },
  {
   "cell_type": "code",
   "execution_count": 23,
   "id": "9008d58f-c1ac-4fe2-adb8-ed36ec9283ba",
   "metadata": {},
   "outputs": [
    {
     "name": "stderr",
     "output_type": "stream",
     "text": [
      "`summarise()` regrouping output by 'isanon' (override with `.groups` argument)\n",
      "\n"
     ]
    },
    {
     "data": {
      "text/html": [
       "<table>\n",
       "<caption>A grouped_df: 1 × 3</caption>\n",
       "<thead>\n",
       "\t<tr><th scope=col>isanon</th><th scope=col>user_edit_count</th><th scope=col>n_events</th></tr>\n",
       "\t<tr><th scope=col>&lt;chr&gt;</th><th scope=col>&lt;int&gt;</th><th scope=col>&lt;int&gt;</th></tr>\n",
       "</thead>\n",
       "<tbody>\n",
       "\t<tr><td>true</td><td>0</td><td>8055282</td></tr>\n",
       "</tbody>\n",
       "</table>\n"
      ],
      "text/latex": [
       "A grouped\\_df: 1 × 3\n",
       "\\begin{tabular}{lll}\n",
       " isanon & user\\_edit\\_count & n\\_events\\\\\n",
       " <chr> & <int> & <int>\\\\\n",
       "\\hline\n",
       "\t true & 0 & 8055282\\\\\n",
       "\\end{tabular}\n"
      ],
      "text/markdown": [
       "\n",
       "A grouped_df: 1 × 3\n",
       "\n",
       "| isanon &lt;chr&gt; | user_edit_count &lt;int&gt; | n_events &lt;int&gt; |\n",
       "|---|---|---|\n",
       "| true | 0 | 8055282 |\n",
       "\n"
      ],
      "text/plain": [
       "  isanon user_edit_count n_events\n",
       "1 true   0               8055282 "
      ]
     },
     "metadata": {},
     "output_type": "display_data"
    }
   ],
   "source": [
    "edits_blocked_byanon_count <- edits_blocked_events %>%\n",
    "  mutate(isanon = ifelse(user_id == 0, \"true\", \"false\")) %>%\n",
    "    filter(isanon == 'true') %>%\n",
    "  group_by(isanon, user_edit_count) %>%\n",
    "    summarise(n_events = n())\n",
    "\n",
    "edits_blocked_byanon_count"
   ]
  },
  {
   "cell_type": "markdown",
   "id": "29ef167d-57db-4e83-994d-8338be0d4f5d",
   "metadata": {},
   "source": [
    "## Blocks by Database"
   ]
  },
  {
   "cell_type": "code",
   "execution_count": 28,
   "id": "ccc5dd91-92e8-4ee9-818b-536b22424c35",
   "metadata": {},
   "outputs": [
    {
     "name": "stderr",
     "output_type": "stream",
     "text": [
      "`summarise()` ungrouping output (override with `.groups` argument)\n",
      "\n"
     ]
    },
    {
     "data": {
      "text/html": [
       "<table>\n",
       "<caption>A tibble: 6 × 2</caption>\n",
       "<thead>\n",
       "\t<tr><th scope=col>database</th><th scope=col>n_events</th></tr>\n",
       "\t<tr><th scope=col>&lt;chr&gt;</th><th scope=col>&lt;int&gt;</th></tr>\n",
       "</thead>\n",
       "<tbody>\n",
       "\t<tr><td>enwiki</td><td>4638043</td></tr>\n",
       "\t<tr><td>zhwiki</td><td> 264465</td></tr>\n",
       "\t<tr><td>frwiki</td><td> 263387</td></tr>\n",
       "\t<tr><td>ruwiki</td><td> 189636</td></tr>\n",
       "\t<tr><td>dewiki</td><td> 166379</td></tr>\n",
       "\t<tr><td>ptwiki</td><td> 130881</td></tr>\n",
       "</tbody>\n",
       "</table>\n"
      ],
      "text/latex": [
       "A tibble: 6 × 2\n",
       "\\begin{tabular}{ll}\n",
       " database & n\\_events\\\\\n",
       " <chr> & <int>\\\\\n",
       "\\hline\n",
       "\t enwiki & 4638043\\\\\n",
       "\t zhwiki &  264465\\\\\n",
       "\t frwiki &  263387\\\\\n",
       "\t ruwiki &  189636\\\\\n",
       "\t dewiki &  166379\\\\\n",
       "\t ptwiki &  130881\\\\\n",
       "\\end{tabular}\n"
      ],
      "text/markdown": [
       "\n",
       "A tibble: 6 × 2\n",
       "\n",
       "| database &lt;chr&gt; | n_events &lt;int&gt; |\n",
       "|---|---|\n",
       "| enwiki | 4638043 |\n",
       "| zhwiki |  264465 |\n",
       "| frwiki |  263387 |\n",
       "| ruwiki |  189636 |\n",
       "| dewiki |  166379 |\n",
       "| ptwiki |  130881 |\n",
       "\n"
      ],
      "text/plain": [
       "  database n_events\n",
       "1 enwiki   4638043 \n",
       "2 zhwiki    264465 \n",
       "3 frwiki    263387 \n",
       "4 ruwiki    189636 \n",
       "5 dewiki    166379 \n",
       "6 ptwiki    130881 "
      ]
     },
     "metadata": {},
     "output_type": "display_data"
    }
   ],
   "source": [
    "#quick check of block expiration dates\n",
    "edits_blocked_bydatabase <- edits_blocked_events %>%\n",
    "  group_by(database) %>%\n",
    "    summarise(n_events = n()) %>%\n",
    "arrange(desc(n_events))\n",
    "\n",
    "head(edits_blocked_bydatabase)"
   ]
  },
  {
   "cell_type": "code",
   "execution_count": null,
   "id": "01df83db-e485-4463-ac5c-3abd3bdca536",
   "metadata": {},
   "outputs": [],
   "source": [
    "Most blocks occur on enwiki."
   ]
  }
 ],
 "metadata": {
  "kernelspec": {
   "display_name": "R",
   "language": "R",
   "name": "ir"
  },
  "language_info": {
   "codemirror_mode": "r",
   "file_extension": ".r",
   "mimetype": "text/x-r-source",
   "name": "R",
   "pygments_lexer": "r",
   "version": "3.5.2"
  }
 },
 "nbformat": 4,
 "nbformat_minor": 5
}
