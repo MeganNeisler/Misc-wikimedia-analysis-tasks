{
 "cells": [
  {
   "cell_type": "markdown",
   "metadata": {},
   "source": [
    "# Talk Page Edit Schema QA\n",
    "[TASK](https://phabricator.wikimedia.org/T286076)"
   ]
  },
  {
   "cell_type": "markdown",
   "metadata": {},
   "source": [
    "# Upload Data"
   ]
  },
  {
   "cell_type": "code",
   "execution_count": 1,
   "metadata": {},
   "outputs": [],
   "source": [
    "shhh <- function(expr) suppressPackageStartupMessages(suppressWarnings(suppressMessages(expr)))\n",
    "shhh({\n",
    "    library(tidyverse); library(glue); library(lubridate); library(scales)\n",
    "})"
   ]
  },
  {
   "cell_type": "code",
   "execution_count": 4,
   "metadata": {},
   "outputs": [],
   "source": [
    "# Collect talk page edit events\n",
    "\n",
    "query <-\n",
    "\"SELECT\n",
    " component_type,\n",
    " topic_id,\n",
    " comment_parent_id,\n",
    "comment_id,\n",
    "page_namespace,\n",
    "performer.user_id As `user`,\n",
    "performer.user_is_anonymous As is_anon,\n",
    "revision_id,\n",
    "session_id,\n",
    "integration,\n",
    "action,\n",
    "performer.user_edit_count As edit_count,\n",
    "performer.user_edit_count_bucket As edit_count_bucket,\n",
    "`database`,\n",
    "meta.dt\n",
    "FROM\n",
    "event.mediawiki_talk_page_edit\n",
    "WHERE\n",
    "    year = 2021 \n",
    "    AND month >= 11\n",
    "\""
   ]
  },
  {
   "cell_type": "code",
   "execution_count": 5,
   "metadata": {},
   "outputs": [
    {
     "name": "stderr",
     "output_type": "stream",
     "text": [
      "Don't forget to authenticate with Kerberos using kinit\n",
      "\n"
     ]
    }
   ],
   "source": [
    "collect_talk_events <-  wmfdata::query_hive(query)"
   ]
  },
  {
   "cell_type": "code",
   "execution_count": 6,
   "metadata": {},
   "outputs": [],
   "source": [
    "collect_talk_events$dt <- as.Date(collect_talk_events$dt, format = \"%Y-%m-%d\")"
   ]
  },
  {
   "cell_type": "code",
   "execution_count": 7,
   "metadata": {},
   "outputs": [
    {
     "data": {
      "text/html": [
       "<table>\n",
       "<caption>A grouped_df: 38 × 2</caption>\n",
       "<thead>\n",
       "\t<tr><th scope=col>dt</th><th scope=col>n</th></tr>\n",
       "\t<tr><th scope=col>&lt;date&gt;</th><th scope=col>&lt;int&gt;</th></tr>\n",
       "</thead>\n",
       "<tbody>\n",
       "\t<tr><td>2021-11-03</td><td>  403</td></tr>\n",
       "\t<tr><td>2021-11-04</td><td> 4796</td></tr>\n",
       "\t<tr><td>2021-11-05</td><td>13888</td></tr>\n",
       "\t<tr><td>2021-11-06</td><td>14753</td></tr>\n",
       "\t<tr><td>2021-11-07</td><td>16021</td></tr>\n",
       "\t<tr><td>2021-11-08</td><td>19874</td></tr>\n",
       "\t<tr><td>2021-11-09</td><td>17606</td></tr>\n",
       "\t<tr><td>2021-11-10</td><td>16684</td></tr>\n",
       "\t<tr><td>2021-11-11</td><td>21075</td></tr>\n",
       "\t<tr><td>2021-11-12</td><td>15505</td></tr>\n",
       "\t<tr><td>2021-11-13</td><td>14588</td></tr>\n",
       "\t<tr><td>2021-11-14</td><td>19743</td></tr>\n",
       "\t<tr><td>2021-11-15</td><td>15532</td></tr>\n",
       "\t<tr><td>2021-11-16</td><td>16373</td></tr>\n",
       "\t<tr><td>2021-11-17</td><td>16449</td></tr>\n",
       "\t<tr><td>2021-11-18</td><td>15766</td></tr>\n",
       "\t<tr><td>2021-11-19</td><td>15598</td></tr>\n",
       "\t<tr><td>2021-11-20</td><td>13264</td></tr>\n",
       "\t<tr><td>2021-11-21</td><td>13743</td></tr>\n",
       "\t<tr><td>2021-11-22</td><td>17581</td></tr>\n",
       "\t<tr><td>2021-11-23</td><td>16711</td></tr>\n",
       "\t<tr><td>2021-11-24</td><td>16896</td></tr>\n",
       "\t<tr><td>2021-11-25</td><td>16384</td></tr>\n",
       "\t<tr><td>2021-11-26</td><td>15226</td></tr>\n",
       "\t<tr><td>2021-11-27</td><td>17894</td></tr>\n",
       "\t<tr><td>2021-11-28</td><td>14562</td></tr>\n",
       "\t<tr><td>2021-11-29</td><td>15343</td></tr>\n",
       "\t<tr><td>2021-11-30</td><td>17714</td></tr>\n",
       "\t<tr><td>2021-12-01</td><td>16902</td></tr>\n",
       "\t<tr><td>2021-12-02</td><td>16040</td></tr>\n",
       "\t<tr><td>2021-12-03</td><td>16878</td></tr>\n",
       "\t<tr><td>2021-12-04</td><td>13760</td></tr>\n",
       "\t<tr><td>2021-12-05</td><td>16483</td></tr>\n",
       "\t<tr><td>2021-12-06</td><td>15296</td></tr>\n",
       "\t<tr><td>2021-12-07</td><td>16903</td></tr>\n",
       "\t<tr><td>2021-12-08</td><td>16238</td></tr>\n",
       "\t<tr><td>2021-12-09</td><td>11157</td></tr>\n",
       "\t<tr><td>2021-12-10</td><td> 1411</td></tr>\n",
       "</tbody>\n",
       "</table>\n"
      ],
      "text/latex": [
       "A grouped\\_df: 38 × 2\n",
       "\\begin{tabular}{ll}\n",
       " dt & n\\\\\n",
       " <date> & <int>\\\\\n",
       "\\hline\n",
       "\t 2021-11-03 &   403\\\\\n",
       "\t 2021-11-04 &  4796\\\\\n",
       "\t 2021-11-05 & 13888\\\\\n",
       "\t 2021-11-06 & 14753\\\\\n",
       "\t 2021-11-07 & 16021\\\\\n",
       "\t 2021-11-08 & 19874\\\\\n",
       "\t 2021-11-09 & 17606\\\\\n",
       "\t 2021-11-10 & 16684\\\\\n",
       "\t 2021-11-11 & 21075\\\\\n",
       "\t 2021-11-12 & 15505\\\\\n",
       "\t 2021-11-13 & 14588\\\\\n",
       "\t 2021-11-14 & 19743\\\\\n",
       "\t 2021-11-15 & 15532\\\\\n",
       "\t 2021-11-16 & 16373\\\\\n",
       "\t 2021-11-17 & 16449\\\\\n",
       "\t 2021-11-18 & 15766\\\\\n",
       "\t 2021-11-19 & 15598\\\\\n",
       "\t 2021-11-20 & 13264\\\\\n",
       "\t 2021-11-21 & 13743\\\\\n",
       "\t 2021-11-22 & 17581\\\\\n",
       "\t 2021-11-23 & 16711\\\\\n",
       "\t 2021-11-24 & 16896\\\\\n",
       "\t 2021-11-25 & 16384\\\\\n",
       "\t 2021-11-26 & 15226\\\\\n",
       "\t 2021-11-27 & 17894\\\\\n",
       "\t 2021-11-28 & 14562\\\\\n",
       "\t 2021-11-29 & 15343\\\\\n",
       "\t 2021-11-30 & 17714\\\\\n",
       "\t 2021-12-01 & 16902\\\\\n",
       "\t 2021-12-02 & 16040\\\\\n",
       "\t 2021-12-03 & 16878\\\\\n",
       "\t 2021-12-04 & 13760\\\\\n",
       "\t 2021-12-05 & 16483\\\\\n",
       "\t 2021-12-06 & 15296\\\\\n",
       "\t 2021-12-07 & 16903\\\\\n",
       "\t 2021-12-08 & 16238\\\\\n",
       "\t 2021-12-09 & 11157\\\\\n",
       "\t 2021-12-10 &  1411\\\\\n",
       "\\end{tabular}\n"
      ],
      "text/markdown": [
       "\n",
       "A grouped_df: 38 × 2\n",
       "\n",
       "| dt &lt;date&gt; | n &lt;int&gt; |\n",
       "|---|---|\n",
       "| 2021-11-03 |   403 |\n",
       "| 2021-11-04 |  4796 |\n",
       "| 2021-11-05 | 13888 |\n",
       "| 2021-11-06 | 14753 |\n",
       "| 2021-11-07 | 16021 |\n",
       "| 2021-11-08 | 19874 |\n",
       "| 2021-11-09 | 17606 |\n",
       "| 2021-11-10 | 16684 |\n",
       "| 2021-11-11 | 21075 |\n",
       "| 2021-11-12 | 15505 |\n",
       "| 2021-11-13 | 14588 |\n",
       "| 2021-11-14 | 19743 |\n",
       "| 2021-11-15 | 15532 |\n",
       "| 2021-11-16 | 16373 |\n",
       "| 2021-11-17 | 16449 |\n",
       "| 2021-11-18 | 15766 |\n",
       "| 2021-11-19 | 15598 |\n",
       "| 2021-11-20 | 13264 |\n",
       "| 2021-11-21 | 13743 |\n",
       "| 2021-11-22 | 17581 |\n",
       "| 2021-11-23 | 16711 |\n",
       "| 2021-11-24 | 16896 |\n",
       "| 2021-11-25 | 16384 |\n",
       "| 2021-11-26 | 15226 |\n",
       "| 2021-11-27 | 17894 |\n",
       "| 2021-11-28 | 14562 |\n",
       "| 2021-11-29 | 15343 |\n",
       "| 2021-11-30 | 17714 |\n",
       "| 2021-12-01 | 16902 |\n",
       "| 2021-12-02 | 16040 |\n",
       "| 2021-12-03 | 16878 |\n",
       "| 2021-12-04 | 13760 |\n",
       "| 2021-12-05 | 16483 |\n",
       "| 2021-12-06 | 15296 |\n",
       "| 2021-12-07 | 16903 |\n",
       "| 2021-12-08 | 16238 |\n",
       "| 2021-12-09 | 11157 |\n",
       "| 2021-12-10 |  1411 |\n",
       "\n"
      ],
      "text/plain": [
       "   dt         n    \n",
       "1  2021-11-03   403\n",
       "2  2021-11-04  4796\n",
       "3  2021-11-05 13888\n",
       "4  2021-11-06 14753\n",
       "5  2021-11-07 16021\n",
       "6  2021-11-08 19874\n",
       "7  2021-11-09 17606\n",
       "8  2021-11-10 16684\n",
       "9  2021-11-11 21075\n",
       "10 2021-11-12 15505\n",
       "11 2021-11-13 14588\n",
       "12 2021-11-14 19743\n",
       "13 2021-11-15 15532\n",
       "14 2021-11-16 16373\n",
       "15 2021-11-17 16449\n",
       "16 2021-11-18 15766\n",
       "17 2021-11-19 15598\n",
       "18 2021-11-20 13264\n",
       "19 2021-11-21 13743\n",
       "20 2021-11-22 17581\n",
       "21 2021-11-23 16711\n",
       "22 2021-11-24 16896\n",
       "23 2021-11-25 16384\n",
       "24 2021-11-26 15226\n",
       "25 2021-11-27 17894\n",
       "26 2021-11-28 14562\n",
       "27 2021-11-29 15343\n",
       "28 2021-11-30 17714\n",
       "29 2021-12-01 16902\n",
       "30 2021-12-02 16040\n",
       "31 2021-12-03 16878\n",
       "32 2021-12-04 13760\n",
       "33 2021-12-05 16483\n",
       "34 2021-12-06 15296\n",
       "35 2021-12-07 16903\n",
       "36 2021-12-08 16238\n",
       "37 2021-12-09 11157\n",
       "38 2021-12-10  1411"
      ]
     },
     "metadata": {},
     "output_type": "display_data"
    }
   ],
   "source": [
    "daily_events <-  collect_talk_events %>%\n",
    "    group_by(dt) %>%\n",
    "    count() %>%\n",
    "    arrange(dt)\n",
    "\n",
    "daily_events"
   ]
  },
  {
   "cell_type": "markdown",
   "metadata": {},
   "source": [
    "We start recording events on November 3rd, which is when the change was deployed. "
   ]
  },
  {
   "cell_type": "code",
   "execution_count": 8,
   "metadata": {},
   "outputs": [
    {
     "data": {
      "text/html": [
       "<table>\n",
       "<caption>A data.frame: 1 × 1</caption>\n",
       "<thead>\n",
       "\t<tr><th scope=col>total_events</th></tr>\n",
       "\t<tr><th scope=col>&lt;int&gt;</th></tr>\n",
       "</thead>\n",
       "<tbody>\n",
       "\t<tr><td>571040</td></tr>\n",
       "</tbody>\n",
       "</table>\n"
      ],
      "text/latex": [
       "A data.frame: 1 × 1\n",
       "\\begin{tabular}{l}\n",
       " total\\_events\\\\\n",
       " <int>\\\\\n",
       "\\hline\n",
       "\t 571040\\\\\n",
       "\\end{tabular}\n"
      ],
      "text/markdown": [
       "\n",
       "A data.frame: 1 × 1\n",
       "\n",
       "| total_events &lt;int&gt; |\n",
       "|---|\n",
       "| 571040 |\n",
       "\n"
      ],
      "text/plain": [
       "  total_events\n",
       "1 571040      "
      ]
     },
     "metadata": {},
     "output_type": "display_data"
    }
   ],
   "source": [
    "talk_events_total <- collect_talk_events %>%\n",
    "    summarise(total_events = n())\n",
    "\n",
    "talk_events_total"
   ]
  },
  {
   "cell_type": "markdown",
   "metadata": {},
   "source": [
    "# Count Distinct Logged-In Users"
   ]
  },
  {
   "cell_type": "code",
   "execution_count": 10,
   "metadata": {},
   "outputs": [
    {
     "data": {
      "text/html": [
       "<table>\n",
       "<caption>A data.frame: 1 × 1</caption>\n",
       "<thead>\n",
       "\t<tr><th scope=col>unique_users</th></tr>\n",
       "\t<tr><th scope=col>&lt;int&gt;</th></tr>\n",
       "</thead>\n",
       "<tbody>\n",
       "\t<tr><td>40146</td></tr>\n",
       "</tbody>\n",
       "</table>\n"
      ],
      "text/latex": [
       "A data.frame: 1 × 1\n",
       "\\begin{tabular}{l}\n",
       " unique\\_users\\\\\n",
       " <int>\\\\\n",
       "\\hline\n",
       "\t 40146\\\\\n",
       "\\end{tabular}\n"
      ],
      "text/markdown": [
       "\n",
       "A data.frame: 1 × 1\n",
       "\n",
       "| unique_users &lt;int&gt; |\n",
       "|---|\n",
       "| 40146 |\n",
       "\n"
      ],
      "text/plain": [
       "  unique_users\n",
       "1 40146       "
      ]
     },
     "metadata": {},
     "output_type": "display_data"
    }
   ],
   "source": [
    "# Number of logged in users\n",
    "talk_users_unique <- collect_talk_events %>%\n",
    "    filter(is_anon == 'false') %>%\n",
    "    summarise(unique_users = n_distinct(user))\n",
    "\n",
    "talk_users_unique"
   ]
  },
  {
   "cell_type": "markdown",
   "metadata": {},
   "source": [
    "# Logged Out User Check"
   ]
  },
  {
   "cell_type": "code",
   "execution_count": 14,
   "metadata": {},
   "outputs": [
    {
     "data": {
      "text/html": [
       "<table>\n",
       "<caption>A data.frame: 1 × 1</caption>\n",
       "<thead>\n",
       "\t<tr><th scope=col>n_events</th></tr>\n",
       "\t<tr><th scope=col>&lt;int&gt;</th></tr>\n",
       "</thead>\n",
       "<tbody>\n",
       "\t<tr><td>93</td></tr>\n",
       "</tbody>\n",
       "</table>\n"
      ],
      "text/latex": [
       "A data.frame: 1 × 1\n",
       "\\begin{tabular}{l}\n",
       " n\\_events\\\\\n",
       " <int>\\\\\n",
       "\\hline\n",
       "\t 93\\\\\n",
       "\\end{tabular}\n"
      ],
      "text/markdown": [
       "\n",
       "A data.frame: 1 × 1\n",
       "\n",
       "| n_events &lt;int&gt; |\n",
       "|---|\n",
       "| 93 |\n",
       "\n"
      ],
      "text/plain": [
       "  n_events\n",
       "1 93      "
      ]
     },
     "metadata": {},
     "output_type": "display_data"
    }
   ],
   "source": [
    "talk_users_anon <- collect_talk_events %>%\n",
    "    filter(is_anon == 'true'| user == 0 ) %>%\n",
    "   summarise( n_events = n())\n",
    "\n",
    "talk_users_anon"
   ]
  },
  {
   "cell_type": "markdown",
   "metadata": {},
   "source": [
    "We are now logging logged out events"
   ]
  },
  {
   "cell_type": "markdown",
   "metadata": {},
   "source": [
    "# User Edit Count Check"
   ]
  },
  {
   "cell_type": "code",
   "execution_count": 15,
   "metadata": {},
   "outputs": [
    {
     "name": "stderr",
     "output_type": "stream",
     "text": [
      "`summarise()` ungrouping output (override with `.groups` argument)\n",
      "\n"
     ]
    },
    {
     "data": {
      "text/html": [
       "<table>\n",
       "<caption>A tibble: 5 × 2</caption>\n",
       "<thead>\n",
       "\t<tr><th scope=col>edit_count_bucket</th><th scope=col>total_events</th></tr>\n",
       "\t<tr><th scope=col>&lt;chr&gt;</th><th scope=col>&lt;int&gt;</th></tr>\n",
       "</thead>\n",
       "<tbody>\n",
       "\t<tr><td>1-4 edits    </td><td>  3378</td></tr>\n",
       "\t<tr><td>100-999 edits</td><td> 38773</td></tr>\n",
       "\t<tr><td>1000+ edits  </td><td>500849</td></tr>\n",
       "\t<tr><td>5-99 edits   </td><td> 27947</td></tr>\n",
       "\t<tr><td>N/A          </td><td>    93</td></tr>\n",
       "</tbody>\n",
       "</table>\n"
      ],
      "text/latex": [
       "A tibble: 5 × 2\n",
       "\\begin{tabular}{ll}\n",
       " edit\\_count\\_bucket & total\\_events\\\\\n",
       " <chr> & <int>\\\\\n",
       "\\hline\n",
       "\t 1-4 edits     &   3378\\\\\n",
       "\t 100-999 edits &  38773\\\\\n",
       "\t 1000+ edits   & 500849\\\\\n",
       "\t 5-99 edits    &  27947\\\\\n",
       "\t N/A           &     93\\\\\n",
       "\\end{tabular}\n"
      ],
      "text/markdown": [
       "\n",
       "A tibble: 5 × 2\n",
       "\n",
       "| edit_count_bucket &lt;chr&gt; | total_events &lt;int&gt; |\n",
       "|---|---|\n",
       "| 1-4 edits     |   3378 |\n",
       "| 100-999 edits |  38773 |\n",
       "| 1000+ edits   | 500849 |\n",
       "| 5-99 edits    |  27947 |\n",
       "| N/A           |     93 |\n",
       "\n"
      ],
      "text/plain": [
       "  edit_count_bucket total_events\n",
       "1 1-4 edits           3378      \n",
       "2 100-999 edits      38773      \n",
       "3 1000+ edits       500849      \n",
       "4 5-99 edits         27947      \n",
       "5 N/A                   93      "
      ]
     },
     "metadata": {},
     "output_type": "display_data"
    }
   ],
   "source": [
    "talk_events_byeditcount <- collect_talk_events %>%\n",
    "    group_by(edit_count_bucket) %>%\n",
    "    summarise(total_events = n())\n",
    "\n",
    "talk_events_byeditcount"
   ]
  },
  {
   "cell_type": "markdown",
   "metadata": {},
   "source": [
    "ISSUE: We do not appear to be logging any edits in the 1-4 edit bucket group.\n",
    "UPDATE: We are now logging edit count bucket events correctly. All logged out users are assigned the 'NA' value."
   ]
  },
  {
   "cell_type": "markdown",
   "metadata": {},
   "source": [
    "# Integration Check"
   ]
  },
  {
   "cell_type": "code",
   "execution_count": 16,
   "metadata": {},
   "outputs": [
    {
     "name": "stderr",
     "output_type": "stream",
     "text": [
      "`summarise()` ungrouping output (override with `.groups` argument)\n",
      "\n"
     ]
    },
    {
     "data": {
      "text/html": [
       "<table>\n",
       "<caption>A tibble: 2 × 2</caption>\n",
       "<thead>\n",
       "\t<tr><th scope=col>integration</th><th scope=col>total_events</th></tr>\n",
       "\t<tr><th scope=col>&lt;chr&gt;</th><th scope=col>&lt;int&gt;</th></tr>\n",
       "</thead>\n",
       "<tbody>\n",
       "\t<tr><td>discussiontools</td><td> 81125</td></tr>\n",
       "\t<tr><td>page           </td><td>489915</td></tr>\n",
       "</tbody>\n",
       "</table>\n"
      ],
      "text/latex": [
       "A tibble: 2 × 2\n",
       "\\begin{tabular}{ll}\n",
       " integration & total\\_events\\\\\n",
       " <chr> & <int>\\\\\n",
       "\\hline\n",
       "\t discussiontools &  81125\\\\\n",
       "\t page            & 489915\\\\\n",
       "\\end{tabular}\n"
      ],
      "text/markdown": [
       "\n",
       "A tibble: 2 × 2\n",
       "\n",
       "| integration &lt;chr&gt; | total_events &lt;int&gt; |\n",
       "|---|---|\n",
       "| discussiontools |  81125 |\n",
       "| page            | 489915 |\n",
       "\n"
      ],
      "text/plain": [
       "  integration     total_events\n",
       "1 discussiontools  81125      \n",
       "2 page            489915      "
      ]
     },
     "metadata": {},
     "output_type": "display_data"
    }
   ],
   "source": [
    "talk_events_byintergration <- collect_talk_events %>%\n",
    "    group_by(integration) %>%\n",
    "    summarise(total_events = n())\n",
    "\n",
    "talk_events_byintergration"
   ]
  },
  {
   "cell_type": "markdown",
   "metadata": {},
   "source": [
    "We've recorded talk page events using discussion tools and on the page. "
   ]
  },
  {
   "cell_type": "markdown",
   "metadata": {},
   "source": [
    "# Cross Wiki Check"
   ]
  },
  {
   "cell_type": "code",
   "execution_count": 64,
   "metadata": {},
   "outputs": [
    {
     "name": "stderr",
     "output_type": "stream",
     "text": [
      "`summarise()` ungrouping output (override with `.groups` argument)\n",
      "\n"
     ]
    },
    {
     "data": {
      "text/html": [
       "<table>\n",
       "<caption>A tibble: 281 × 2</caption>\n",
       "<thead>\n",
       "\t<tr><th scope=col>database</th><th scope=col>total_events</th></tr>\n",
       "\t<tr><th scope=col>&lt;chr&gt;</th><th scope=col>&lt;int&gt;</th></tr>\n",
       "</thead>\n",
       "<tbody>\n",
       "\t<tr><td>afwiki       </td><td>  69</td></tr>\n",
       "\t<tr><td>alswiki      </td><td> 171</td></tr>\n",
       "\t<tr><td>amwiki       </td><td>   2</td></tr>\n",
       "\t<tr><td>amwiktionary </td><td>   1</td></tr>\n",
       "\t<tr><td>arwiki       </td><td>1163</td></tr>\n",
       "\t<tr><td>arwikiquote  </td><td>   8</td></tr>\n",
       "\t<tr><td>arwikisource </td><td>   1</td></tr>\n",
       "\t<tr><td>arywiki      </td><td>   4</td></tr>\n",
       "\t<tr><td>arzwiki      </td><td> 155</td></tr>\n",
       "\t<tr><td>astwiki      </td><td>  11</td></tr>\n",
       "\t<tr><td>aswiki       </td><td>   2</td></tr>\n",
       "\t<tr><td>azbwiki      </td><td>  24</td></tr>\n",
       "\t<tr><td>azwiki       </td><td> 293</td></tr>\n",
       "\t<tr><td>banwiki      </td><td>  14</td></tr>\n",
       "\t<tr><td>bat_smgwiki  </td><td>   1</td></tr>\n",
       "\t<tr><td>bawiki       </td><td>  66</td></tr>\n",
       "\t<tr><td>bclwiktionary</td><td>   4</td></tr>\n",
       "\t<tr><td>be_x_oldwiki </td><td>  18</td></tr>\n",
       "\t<tr><td>bewiki       </td><td> 129</td></tr>\n",
       "\t<tr><td>bewikiquote  </td><td>   1</td></tr>\n",
       "\t<tr><td>bewikisource </td><td>   1</td></tr>\n",
       "\t<tr><td>bewiktionary </td><td>  69</td></tr>\n",
       "\t<tr><td>bgwiki       </td><td> 356</td></tr>\n",
       "\t<tr><td>bnwiki       </td><td> 459</td></tr>\n",
       "\t<tr><td>bnwikibooks  </td><td>   5</td></tr>\n",
       "\t<tr><td>bnwikisource </td><td>  18</td></tr>\n",
       "\t<tr><td>bnwiktionary </td><td>  57</td></tr>\n",
       "\t<tr><td>brwiki       </td><td>  11</td></tr>\n",
       "\t<tr><td>bswiki       </td><td>  52</td></tr>\n",
       "\t<tr><td>cawiki       </td><td> 498</td></tr>\n",
       "\t<tr><td>⋮</td><td>⋮</td></tr>\n",
       "\t<tr><td>trwikiquote     </td><td>   1</td></tr>\n",
       "\t<tr><td>trwikisource    </td><td>  23</td></tr>\n",
       "\t<tr><td>trwikivoyage    </td><td>   2</td></tr>\n",
       "\t<tr><td>trwiktionary    </td><td>  78</td></tr>\n",
       "\t<tr><td>ttwiki          </td><td>  13</td></tr>\n",
       "\t<tr><td>twwiki          </td><td>   2</td></tr>\n",
       "\t<tr><td>uawikimedia     </td><td>  67</td></tr>\n",
       "\t<tr><td>ukwiki          </td><td>1551</td></tr>\n",
       "\t<tr><td>ukwikibooks     </td><td>   2</td></tr>\n",
       "\t<tr><td>ukwikisource    </td><td>  25</td></tr>\n",
       "\t<tr><td>uzwiki          </td><td>  63</td></tr>\n",
       "\t<tr><td>vecwiki         </td><td>  41</td></tr>\n",
       "\t<tr><td>viwiki          </td><td>1658</td></tr>\n",
       "\t<tr><td>viwikisource    </td><td>   1</td></tr>\n",
       "\t<tr><td>viwikivoyage    </td><td>   3</td></tr>\n",
       "\t<tr><td>viwiktionary    </td><td>  22</td></tr>\n",
       "\t<tr><td>warwiki         </td><td>   2</td></tr>\n",
       "\t<tr><td>wikidatawiki    </td><td>1603</td></tr>\n",
       "\t<tr><td>wikimaniawiki   </td><td>   3</td></tr>\n",
       "\t<tr><td>yowiki          </td><td>   3</td></tr>\n",
       "\t<tr><td>zh_classicalwiki</td><td>   2</td></tr>\n",
       "\t<tr><td>zh_yuewiki      </td><td>  84</td></tr>\n",
       "\t<tr><td>zhwiki          </td><td>4635</td></tr>\n",
       "\t<tr><td>zhwikibooks     </td><td>   3</td></tr>\n",
       "\t<tr><td>zhwikinews      </td><td>  51</td></tr>\n",
       "\t<tr><td>zhwikiquote     </td><td>   6</td></tr>\n",
       "\t<tr><td>zhwikisource    </td><td> 375</td></tr>\n",
       "\t<tr><td>zhwikiversity   </td><td>   8</td></tr>\n",
       "\t<tr><td>zhwikivoyage    </td><td>  23</td></tr>\n",
       "\t<tr><td>zhwiktionary    </td><td>  16</td></tr>\n",
       "</tbody>\n",
       "</table>\n"
      ],
      "text/latex": [
       "A tibble: 281 × 2\n",
       "\\begin{tabular}{ll}\n",
       " database & total\\_events\\\\\n",
       " <chr> & <int>\\\\\n",
       "\\hline\n",
       "\t afwiki        &   69\\\\\n",
       "\t alswiki       &  171\\\\\n",
       "\t amwiki        &    2\\\\\n",
       "\t amwiktionary  &    1\\\\\n",
       "\t arwiki        & 1163\\\\\n",
       "\t arwikiquote   &    8\\\\\n",
       "\t arwikisource  &    1\\\\\n",
       "\t arywiki       &    4\\\\\n",
       "\t arzwiki       &  155\\\\\n",
       "\t astwiki       &   11\\\\\n",
       "\t aswiki        &    2\\\\\n",
       "\t azbwiki       &   24\\\\\n",
       "\t azwiki        &  293\\\\\n",
       "\t banwiki       &   14\\\\\n",
       "\t bat\\_smgwiki   &    1\\\\\n",
       "\t bawiki        &   66\\\\\n",
       "\t bclwiktionary &    4\\\\\n",
       "\t be\\_x\\_oldwiki  &   18\\\\\n",
       "\t bewiki        &  129\\\\\n",
       "\t bewikiquote   &    1\\\\\n",
       "\t bewikisource  &    1\\\\\n",
       "\t bewiktionary  &   69\\\\\n",
       "\t bgwiki        &  356\\\\\n",
       "\t bnwiki        &  459\\\\\n",
       "\t bnwikibooks   &    5\\\\\n",
       "\t bnwikisource  &   18\\\\\n",
       "\t bnwiktionary  &   57\\\\\n",
       "\t brwiki        &   11\\\\\n",
       "\t bswiki        &   52\\\\\n",
       "\t cawiki        &  498\\\\\n",
       "\t ⋮ & ⋮\\\\\n",
       "\t trwikiquote      &    1\\\\\n",
       "\t trwikisource     &   23\\\\\n",
       "\t trwikivoyage     &    2\\\\\n",
       "\t trwiktionary     &   78\\\\\n",
       "\t ttwiki           &   13\\\\\n",
       "\t twwiki           &    2\\\\\n",
       "\t uawikimedia      &   67\\\\\n",
       "\t ukwiki           & 1551\\\\\n",
       "\t ukwikibooks      &    2\\\\\n",
       "\t ukwikisource     &   25\\\\\n",
       "\t uzwiki           &   63\\\\\n",
       "\t vecwiki          &   41\\\\\n",
       "\t viwiki           & 1658\\\\\n",
       "\t viwikisource     &    1\\\\\n",
       "\t viwikivoyage     &    3\\\\\n",
       "\t viwiktionary     &   22\\\\\n",
       "\t warwiki          &    2\\\\\n",
       "\t wikidatawiki     & 1603\\\\\n",
       "\t wikimaniawiki    &    3\\\\\n",
       "\t yowiki           &    3\\\\\n",
       "\t zh\\_classicalwiki &    2\\\\\n",
       "\t zh\\_yuewiki       &   84\\\\\n",
       "\t zhwiki           & 4635\\\\\n",
       "\t zhwikibooks      &    3\\\\\n",
       "\t zhwikinews       &   51\\\\\n",
       "\t zhwikiquote      &    6\\\\\n",
       "\t zhwikisource     &  375\\\\\n",
       "\t zhwikiversity    &    8\\\\\n",
       "\t zhwikivoyage     &   23\\\\\n",
       "\t zhwiktionary     &   16\\\\\n",
       "\\end{tabular}\n"
      ],
      "text/markdown": [
       "\n",
       "A tibble: 281 × 2\n",
       "\n",
       "| database &lt;chr&gt; | total_events &lt;int&gt; |\n",
       "|---|---|\n",
       "| afwiki        |   69 |\n",
       "| alswiki       |  171 |\n",
       "| amwiki        |    2 |\n",
       "| amwiktionary  |    1 |\n",
       "| arwiki        | 1163 |\n",
       "| arwikiquote   |    8 |\n",
       "| arwikisource  |    1 |\n",
       "| arywiki       |    4 |\n",
       "| arzwiki       |  155 |\n",
       "| astwiki       |   11 |\n",
       "| aswiki        |    2 |\n",
       "| azbwiki       |   24 |\n",
       "| azwiki        |  293 |\n",
       "| banwiki       |   14 |\n",
       "| bat_smgwiki   |    1 |\n",
       "| bawiki        |   66 |\n",
       "| bclwiktionary |    4 |\n",
       "| be_x_oldwiki  |   18 |\n",
       "| bewiki        |  129 |\n",
       "| bewikiquote   |    1 |\n",
       "| bewikisource  |    1 |\n",
       "| bewiktionary  |   69 |\n",
       "| bgwiki        |  356 |\n",
       "| bnwiki        |  459 |\n",
       "| bnwikibooks   |    5 |\n",
       "| bnwikisource  |   18 |\n",
       "| bnwiktionary  |   57 |\n",
       "| brwiki        |   11 |\n",
       "| bswiki        |   52 |\n",
       "| cawiki        |  498 |\n",
       "| ⋮ | ⋮ |\n",
       "| trwikiquote      |    1 |\n",
       "| trwikisource     |   23 |\n",
       "| trwikivoyage     |    2 |\n",
       "| trwiktionary     |   78 |\n",
       "| ttwiki           |   13 |\n",
       "| twwiki           |    2 |\n",
       "| uawikimedia      |   67 |\n",
       "| ukwiki           | 1551 |\n",
       "| ukwikibooks      |    2 |\n",
       "| ukwikisource     |   25 |\n",
       "| uzwiki           |   63 |\n",
       "| vecwiki          |   41 |\n",
       "| viwiki           | 1658 |\n",
       "| viwikisource     |    1 |\n",
       "| viwikivoyage     |    3 |\n",
       "| viwiktionary     |   22 |\n",
       "| warwiki          |    2 |\n",
       "| wikidatawiki     | 1603 |\n",
       "| wikimaniawiki    |    3 |\n",
       "| yowiki           |    3 |\n",
       "| zh_classicalwiki |    2 |\n",
       "| zh_yuewiki       |   84 |\n",
       "| zhwiki           | 4635 |\n",
       "| zhwikibooks      |    3 |\n",
       "| zhwikinews       |   51 |\n",
       "| zhwikiquote      |    6 |\n",
       "| zhwikisource     |  375 |\n",
       "| zhwikiversity    |    8 |\n",
       "| zhwikivoyage     |   23 |\n",
       "| zhwiktionary     |   16 |\n",
       "\n"
      ],
      "text/plain": [
       "    database         total_events\n",
       "1   afwiki             69        \n",
       "2   alswiki           171        \n",
       "3   amwiki              2        \n",
       "4   amwiktionary        1        \n",
       "5   arwiki           1163        \n",
       "6   arwikiquote         8        \n",
       "7   arwikisource        1        \n",
       "8   arywiki             4        \n",
       "9   arzwiki           155        \n",
       "10  astwiki            11        \n",
       "11  aswiki              2        \n",
       "12  azbwiki            24        \n",
       "13  azwiki            293        \n",
       "14  banwiki            14        \n",
       "15  bat_smgwiki         1        \n",
       "16  bawiki             66        \n",
       "17  bclwiktionary       4        \n",
       "18  be_x_oldwiki       18        \n",
       "19  bewiki            129        \n",
       "20  bewikiquote         1        \n",
       "21  bewikisource        1        \n",
       "22  bewiktionary       69        \n",
       "23  bgwiki            356        \n",
       "24  bnwiki            459        \n",
       "25  bnwikibooks         5        \n",
       "26  bnwikisource       18        \n",
       "27  bnwiktionary       57        \n",
       "28  brwiki             11        \n",
       "29  bswiki             52        \n",
       "30  cawiki            498        \n",
       "⋮   ⋮                ⋮           \n",
       "252 trwikiquote         1        \n",
       "253 trwikisource       23        \n",
       "254 trwikivoyage        2        \n",
       "255 trwiktionary       78        \n",
       "256 ttwiki             13        \n",
       "257 twwiki              2        \n",
       "258 uawikimedia        67        \n",
       "259 ukwiki           1551        \n",
       "260 ukwikibooks         2        \n",
       "261 ukwikisource       25        \n",
       "262 uzwiki             63        \n",
       "263 vecwiki            41        \n",
       "264 viwiki           1658        \n",
       "265 viwikisource        1        \n",
       "266 viwikivoyage        3        \n",
       "267 viwiktionary       22        \n",
       "268 warwiki             2        \n",
       "269 wikidatawiki     1603        \n",
       "270 wikimaniawiki       3        \n",
       "271 yowiki              3        \n",
       "272 zh_classicalwiki    2        \n",
       "273 zh_yuewiki         84        \n",
       "274 zhwiki           4635        \n",
       "275 zhwikibooks         3        \n",
       "276 zhwikinews         51        \n",
       "277 zhwikiquote         6        \n",
       "278 zhwikisource      375        \n",
       "279 zhwikiversity       8        \n",
       "280 zhwikivoyage       23        \n",
       "281 zhwiktionary       16        "
      ]
     },
     "metadata": {},
     "output_type": "display_data"
    }
   ],
   "source": [
    "talk_events_bywiki <- collect_talk_events %>%\n",
    "    group_by(database) %>%\n",
    "    summarise(total_events = n())\n",
    "\n",
    "talk_events_bywiki"
   ]
  },
  {
   "cell_type": "markdown",
   "metadata": {},
   "source": [
    "# Component Types"
   ]
  },
  {
   "cell_type": "code",
   "execution_count": 17,
   "metadata": {},
   "outputs": [
    {
     "name": "stderr",
     "output_type": "stream",
     "text": [
      "`summarise()` ungrouping output (override with `.groups` argument)\n",
      "\n"
     ]
    },
    {
     "data": {
      "text/html": [
       "<table>\n",
       "<caption>A tibble: 2 × 2</caption>\n",
       "<thead>\n",
       "\t<tr><th scope=col>component_type</th><th scope=col>total_events</th></tr>\n",
       "\t<tr><th scope=col>&lt;chr&gt;</th><th scope=col>&lt;int&gt;</th></tr>\n",
       "</thead>\n",
       "<tbody>\n",
       "\t<tr><td>comment </td><td>253440</td></tr>\n",
       "\t<tr><td>response</td><td>317600</td></tr>\n",
       "</tbody>\n",
       "</table>\n"
      ],
      "text/latex": [
       "A tibble: 2 × 2\n",
       "\\begin{tabular}{ll}\n",
       " component\\_type & total\\_events\\\\\n",
       " <chr> & <int>\\\\\n",
       "\\hline\n",
       "\t comment  & 253440\\\\\n",
       "\t response & 317600\\\\\n",
       "\\end{tabular}\n"
      ],
      "text/markdown": [
       "\n",
       "A tibble: 2 × 2\n",
       "\n",
       "| component_type &lt;chr&gt; | total_events &lt;int&gt; |\n",
       "|---|---|\n",
       "| comment  | 253440 |\n",
       "| response | 317600 |\n",
       "\n"
      ],
      "text/plain": [
       "  component_type total_events\n",
       "1 comment        253440      \n",
       "2 response       317600      "
      ]
     },
     "metadata": {},
     "output_type": "display_data"
    }
   ],
   "source": [
    "talk_events_bycomponent <- collect_talk_events %>%\n",
    "    group_by(component_type) %>%\n",
    "    summarise(total_events = n())\n",
    "\n",
    "talk_events_bycomponent"
   ]
  },
  {
   "cell_type": "markdown",
   "metadata": {},
   "source": [
    "There are more responses than comments. We are only recording comment and response."
   ]
  },
  {
   "cell_type": "markdown",
   "metadata": {},
   "source": [
    "# Action"
   ]
  },
  {
   "cell_type": "code",
   "execution_count": 18,
   "metadata": {},
   "outputs": [
    {
     "name": "stderr",
     "output_type": "stream",
     "text": [
      "`summarise()` ungrouping output (override with `.groups` argument)\n",
      "\n"
     ]
    },
    {
     "data": {
      "text/html": [
       "<table>\n",
       "<caption>A tibble: 1 × 2</caption>\n",
       "<thead>\n",
       "\t<tr><th scope=col>action</th><th scope=col>total_events</th></tr>\n",
       "\t<tr><th scope=col>&lt;chr&gt;</th><th scope=col>&lt;int&gt;</th></tr>\n",
       "</thead>\n",
       "<tbody>\n",
       "\t<tr><td>publish</td><td>571040</td></tr>\n",
       "</tbody>\n",
       "</table>\n"
      ],
      "text/latex": [
       "A tibble: 1 × 2\n",
       "\\begin{tabular}{ll}\n",
       " action & total\\_events\\\\\n",
       " <chr> & <int>\\\\\n",
       "\\hline\n",
       "\t publish & 571040\\\\\n",
       "\\end{tabular}\n"
      ],
      "text/markdown": [
       "\n",
       "A tibble: 1 × 2\n",
       "\n",
       "| action &lt;chr&gt; | total_events &lt;int&gt; |\n",
       "|---|---|\n",
       "| publish | 571040 |\n",
       "\n"
      ],
      "text/plain": [
       "  action  total_events\n",
       "1 publish 571040      "
      ]
     },
     "metadata": {},
     "output_type": "display_data"
    }
   ],
   "source": [
    "talk_events_byaction <- collect_talk_events %>%\n",
    "    group_by(action) %>%\n",
    "    summarise(total_events = n())\n",
    "\n",
    "talk_events_byaction"
   ]
  },
  {
   "cell_type": "code",
   "execution_count": null,
   "metadata": {},
   "outputs": [],
   "source": [
    "All recorded events have been logged as publish events as expected."
   ]
  },
  {
   "cell_type": "markdown",
   "metadata": {},
   "source": [
    "# Namespace"
   ]
  },
  {
   "cell_type": "code",
   "execution_count": 19,
   "metadata": {},
   "outputs": [
    {
     "name": "stderr",
     "output_type": "stream",
     "text": [
      "`summarise()` ungrouping output (override with `.groups` argument)\n",
      "\n"
     ]
    },
    {
     "data": {
      "text/html": [
       "<table>\n",
       "<caption>A tibble: 34 × 2</caption>\n",
       "<thead>\n",
       "\t<tr><th scope=col>page_namespace</th><th scope=col>total_events</th></tr>\n",
       "\t<tr><th scope=col>&lt;int&gt;</th><th scope=col>&lt;int&gt;</th></tr>\n",
       "</thead>\n",
       "<tbody>\n",
       "\t<tr><td>  3</td><td>224801</td></tr>\n",
       "\t<tr><td>  4</td><td>146651</td></tr>\n",
       "\t<tr><td>  1</td><td>137068</td></tr>\n",
       "\t<tr><td>  5</td><td> 35063</td></tr>\n",
       "\t<tr><td>103</td><td>  7905</td></tr>\n",
       "\t<tr><td> 11</td><td>  6896</td></tr>\n",
       "\t<tr><td>101</td><td>  1615</td></tr>\n",
       "\t<tr><td>  0</td><td>  1283</td></tr>\n",
       "\t<tr><td>119</td><td>  1182</td></tr>\n",
       "\t<tr><td> 15</td><td>  1156</td></tr>\n",
       "\t<tr><td>102</td><td>  1023</td></tr>\n",
       "\t<tr><td> 13</td><td>  1013</td></tr>\n",
       "\t<tr><td>105</td><td>   861</td></tr>\n",
       "\t<tr><td>  7</td><td>   837</td></tr>\n",
       "\t<tr><td>107</td><td>   666</td></tr>\n",
       "\t<tr><td> 12</td><td>   617</td></tr>\n",
       "\t<tr><td>829</td><td>   577</td></tr>\n",
       "\t<tr><td>  9</td><td>   573</td></tr>\n",
       "\t<tr><td>104</td><td>   452</td></tr>\n",
       "\t<tr><td>121</td><td>   249</td></tr>\n",
       "\t<tr><td>201</td><td>   208</td></tr>\n",
       "\t<tr><td>100</td><td>   152</td></tr>\n",
       "\t<tr><td>106</td><td>    87</td></tr>\n",
       "\t<tr><td>109</td><td>    28</td></tr>\n",
       "\t<tr><td>111</td><td>    19</td></tr>\n",
       "\t<tr><td>113</td><td>    17</td></tr>\n",
       "\t<tr><td>253</td><td>    13</td></tr>\n",
       "\t<tr><td>  2</td><td>    12</td></tr>\n",
       "\t<tr><td>115</td><td>     5</td></tr>\n",
       "\t<tr><td>133</td><td>     4</td></tr>\n",
       "\t<tr><td>487</td><td>     3</td></tr>\n",
       "\t<tr><td>147</td><td>     2</td></tr>\n",
       "\t<tr><td>203</td><td>     1</td></tr>\n",
       "\t<tr><td>251</td><td>     1</td></tr>\n",
       "</tbody>\n",
       "</table>\n"
      ],
      "text/latex": [
       "A tibble: 34 × 2\n",
       "\\begin{tabular}{ll}\n",
       " page\\_namespace & total\\_events\\\\\n",
       " <int> & <int>\\\\\n",
       "\\hline\n",
       "\t   3 & 224801\\\\\n",
       "\t   4 & 146651\\\\\n",
       "\t   1 & 137068\\\\\n",
       "\t   5 &  35063\\\\\n",
       "\t 103 &   7905\\\\\n",
       "\t  11 &   6896\\\\\n",
       "\t 101 &   1615\\\\\n",
       "\t   0 &   1283\\\\\n",
       "\t 119 &   1182\\\\\n",
       "\t  15 &   1156\\\\\n",
       "\t 102 &   1023\\\\\n",
       "\t  13 &   1013\\\\\n",
       "\t 105 &    861\\\\\n",
       "\t   7 &    837\\\\\n",
       "\t 107 &    666\\\\\n",
       "\t  12 &    617\\\\\n",
       "\t 829 &    577\\\\\n",
       "\t   9 &    573\\\\\n",
       "\t 104 &    452\\\\\n",
       "\t 121 &    249\\\\\n",
       "\t 201 &    208\\\\\n",
       "\t 100 &    152\\\\\n",
       "\t 106 &     87\\\\\n",
       "\t 109 &     28\\\\\n",
       "\t 111 &     19\\\\\n",
       "\t 113 &     17\\\\\n",
       "\t 253 &     13\\\\\n",
       "\t   2 &     12\\\\\n",
       "\t 115 &      5\\\\\n",
       "\t 133 &      4\\\\\n",
       "\t 487 &      3\\\\\n",
       "\t 147 &      2\\\\\n",
       "\t 203 &      1\\\\\n",
       "\t 251 &      1\\\\\n",
       "\\end{tabular}\n"
      ],
      "text/markdown": [
       "\n",
       "A tibble: 34 × 2\n",
       "\n",
       "| page_namespace &lt;int&gt; | total_events &lt;int&gt; |\n",
       "|---|---|\n",
       "|   3 | 224801 |\n",
       "|   4 | 146651 |\n",
       "|   1 | 137068 |\n",
       "|   5 |  35063 |\n",
       "| 103 |   7905 |\n",
       "|  11 |   6896 |\n",
       "| 101 |   1615 |\n",
       "|   0 |   1283 |\n",
       "| 119 |   1182 |\n",
       "|  15 |   1156 |\n",
       "| 102 |   1023 |\n",
       "|  13 |   1013 |\n",
       "| 105 |    861 |\n",
       "|   7 |    837 |\n",
       "| 107 |    666 |\n",
       "|  12 |    617 |\n",
       "| 829 |    577 |\n",
       "|   9 |    573 |\n",
       "| 104 |    452 |\n",
       "| 121 |    249 |\n",
       "| 201 |    208 |\n",
       "| 100 |    152 |\n",
       "| 106 |     87 |\n",
       "| 109 |     28 |\n",
       "| 111 |     19 |\n",
       "| 113 |     17 |\n",
       "| 253 |     13 |\n",
       "|   2 |     12 |\n",
       "| 115 |      5 |\n",
       "| 133 |      4 |\n",
       "| 487 |      3 |\n",
       "| 147 |      2 |\n",
       "| 203 |      1 |\n",
       "| 251 |      1 |\n",
       "\n"
      ],
      "text/plain": [
       "   page_namespace total_events\n",
       "1    3            224801      \n",
       "2    4            146651      \n",
       "3    1            137068      \n",
       "4    5             35063      \n",
       "5  103              7905      \n",
       "6   11              6896      \n",
       "7  101              1615      \n",
       "8    0              1283      \n",
       "9  119              1182      \n",
       "10  15              1156      \n",
       "11 102              1023      \n",
       "12  13              1013      \n",
       "13 105               861      \n",
       "14   7               837      \n",
       "15 107               666      \n",
       "16  12               617      \n",
       "17 829               577      \n",
       "18   9               573      \n",
       "19 104               452      \n",
       "20 121               249      \n",
       "21 201               208      \n",
       "22 100               152      \n",
       "23 106                87      \n",
       "24 109                28      \n",
       "25 111                19      \n",
       "26 113                17      \n",
       "27 253                13      \n",
       "28   2                12      \n",
       "29 115                 5      \n",
       "30 133                 4      \n",
       "31 487                 3      \n",
       "32 147                 2      \n",
       "33 203                 1      \n",
       "34 251                 1      "
      ]
     },
     "metadata": {},
     "output_type": "display_data"
    }
   ],
   "source": [
    "talk_events_bynamespace <- collect_talk_events %>%\n",
    "    group_by(page_namespace) %>%\n",
    "    summarise(total_events = n()) %>%\n",
    "    arrange(desc(total_events))\n",
    "\n",
    "talk_events_bynamespace"
   ]
  },
  {
   "cell_type": "markdown",
   "metadata": {},
   "source": [
    "The most events have occured on User Talk pages (38.9%), followed by project talk (27%) and then article talk pages (24%). There are some events that occur on non talk pages. 364 events were recored on article (main) namespace pages. - Do we know what might cause this."
   ]
  },
  {
   "cell_type": "markdown",
   "metadata": {},
   "source": [
    "# Comment and Response IDs\n",
    "\n",
    "Per current set-up, `comment_id` will change with every event -- it's the ID of the parent that was responded to. For the very first comment in a thread that'll be the ID of the topic (but the component_type will be `comment` rather than `response` and `comment_id` will equal `topic_id`, so this is easy to distinguish)."
   ]
  },
  {
   "cell_type": "code",
   "execution_count": 20,
   "metadata": {},
   "outputs": [
    {
     "data": {
      "text/html": [
       "<table>\n",
       "<caption>A data.frame: 0 × 15</caption>\n",
       "<thead>\n",
       "\t<tr><th scope=col>component_type</th><th scope=col>topic_id</th><th scope=col>comment_parent_id</th><th scope=col>comment_id</th><th scope=col>page_namespace</th><th scope=col>user</th><th scope=col>is_anon</th><th scope=col>revision_id</th><th scope=col>session_id</th><th scope=col>integration</th><th scope=col>action</th><th scope=col>edit_count</th><th scope=col>edit_count_bucket</th><th scope=col>database</th><th scope=col>dt</th></tr>\n",
       "\t<tr><th scope=col>&lt;chr&gt;</th><th scope=col>&lt;chr&gt;</th><th scope=col>&lt;chr&gt;</th><th scope=col>&lt;chr&gt;</th><th scope=col>&lt;int&gt;</th><th scope=col>&lt;int&gt;</th><th scope=col>&lt;chr&gt;</th><th scope=col>&lt;int&gt;</th><th scope=col>&lt;chr&gt;</th><th scope=col>&lt;chr&gt;</th><th scope=col>&lt;chr&gt;</th><th scope=col>&lt;int&gt;</th><th scope=col>&lt;chr&gt;</th><th scope=col>&lt;chr&gt;</th><th scope=col>&lt;date&gt;</th></tr>\n",
       "</thead>\n",
       "<tbody>\n",
       "</tbody>\n",
       "</table>\n"
      ],
      "text/latex": [
       "A data.frame: 0 × 15\n",
       "\\begin{tabular}{lllllllllllllll}\n",
       " component\\_type & topic\\_id & comment\\_parent\\_id & comment\\_id & page\\_namespace & user & is\\_anon & revision\\_id & session\\_id & integration & action & edit\\_count & edit\\_count\\_bucket & database & dt\\\\\n",
       " <chr> & <chr> & <chr> & <chr> & <int> & <int> & <chr> & <int> & <chr> & <chr> & <chr> & <int> & <chr> & <chr> & <date>\\\\\n",
       "\\hline\n",
       "\\end{tabular}\n"
      ],
      "text/markdown": [
       "\n",
       "A data.frame: 0 × 15\n",
       "\n",
       "| component_type &lt;chr&gt; | topic_id &lt;chr&gt; | comment_parent_id &lt;chr&gt; | comment_id &lt;chr&gt; | page_namespace &lt;int&gt; | user &lt;int&gt; | is_anon &lt;chr&gt; | revision_id &lt;int&gt; | session_id &lt;chr&gt; | integration &lt;chr&gt; | action &lt;chr&gt; | edit_count &lt;int&gt; | edit_count_bucket &lt;chr&gt; | database &lt;chr&gt; | dt &lt;date&gt; |\n",
       "|---|---|---|---|---|---|---|---|---|---|---|---|---|---|---|\n",
       "\n"
      ],
      "text/plain": [
       "     component_type topic_id comment_parent_id comment_id page_namespace user\n",
       "     is_anon revision_id session_id integration action edit_count\n",
       "     edit_count_bucket database dt"
      ]
     },
     "metadata": {},
     "output_type": "display_data"
    }
   ],
   "source": [
    " #find any instances where the comment id is equal to the comment parent id\n",
    "\n",
    "comment_id_check <- collect_talk_events %>%\n",
    "    filter(collect_talk_events$comment_id \n",
    "           ==  collect_talk_events$comment_parent_id)\n",
    "\n",
    "comment_id_check"
   ]
  },
  {
   "cell_type": "code",
   "execution_count": null,
   "metadata": {},
   "outputs": [],
   "source": [
    "No instances where the comment_id is equal to comment_parent_id as expected"
   ]
  },
  {
   "cell_type": "code",
   "execution_count": 23,
   "metadata": {},
   "outputs": [],
   "source": [
    "# find top_level comments where the comment id is equal to the topic id. Should all be lableld comment\n",
    "\n",
    "top_level_commment <- collect_talk_events %>%\n",
    "    filter(collect_talk_events$comment_parent_id \n",
    "           ==  collect_talk_events$topic_id & component_type == 'comment')\n"
   ]
  },
  {
   "cell_type": "markdown",
   "metadata": {},
   "source": [
    "There are several top level comments, indicated by a comment_parent_id that matches a topic_id. All of these are labeled as comments as expected. Next we'll check that all responses are labled correctly. "
   ]
  },
  {
   "cell_type": "code",
   "execution_count": 24,
   "metadata": {},
   "outputs": [
    {
     "data": {
      "text/html": [
       "<table>\n",
       "<caption>A data.frame: 0 × 15</caption>\n",
       "<thead>\n",
       "\t<tr><th scope=col>component_type</th><th scope=col>topic_id</th><th scope=col>comment_parent_id</th><th scope=col>comment_id</th><th scope=col>page_namespace</th><th scope=col>user</th><th scope=col>is_anon</th><th scope=col>revision_id</th><th scope=col>session_id</th><th scope=col>integration</th><th scope=col>action</th><th scope=col>edit_count</th><th scope=col>edit_count_bucket</th><th scope=col>database</th><th scope=col>dt</th></tr>\n",
       "\t<tr><th scope=col>&lt;chr&gt;</th><th scope=col>&lt;chr&gt;</th><th scope=col>&lt;chr&gt;</th><th scope=col>&lt;chr&gt;</th><th scope=col>&lt;int&gt;</th><th scope=col>&lt;int&gt;</th><th scope=col>&lt;chr&gt;</th><th scope=col>&lt;int&gt;</th><th scope=col>&lt;chr&gt;</th><th scope=col>&lt;chr&gt;</th><th scope=col>&lt;chr&gt;</th><th scope=col>&lt;int&gt;</th><th scope=col>&lt;chr&gt;</th><th scope=col>&lt;chr&gt;</th><th scope=col>&lt;date&gt;</th></tr>\n",
       "</thead>\n",
       "<tbody>\n",
       "</tbody>\n",
       "</table>\n"
      ],
      "text/latex": [
       "A data.frame: 0 × 15\n",
       "\\begin{tabular}{lllllllllllllll}\n",
       " component\\_type & topic\\_id & comment\\_parent\\_id & comment\\_id & page\\_namespace & user & is\\_anon & revision\\_id & session\\_id & integration & action & edit\\_count & edit\\_count\\_bucket & database & dt\\\\\n",
       " <chr> & <chr> & <chr> & <chr> & <int> & <int> & <chr> & <int> & <chr> & <chr> & <chr> & <int> & <chr> & <chr> & <date>\\\\\n",
       "\\hline\n",
       "\\end{tabular}\n"
      ],
      "text/markdown": [
       "\n",
       "A data.frame: 0 × 15\n",
       "\n",
       "| component_type &lt;chr&gt; | topic_id &lt;chr&gt; | comment_parent_id &lt;chr&gt; | comment_id &lt;chr&gt; | page_namespace &lt;int&gt; | user &lt;int&gt; | is_anon &lt;chr&gt; | revision_id &lt;int&gt; | session_id &lt;chr&gt; | integration &lt;chr&gt; | action &lt;chr&gt; | edit_count &lt;int&gt; | edit_count_bucket &lt;chr&gt; | database &lt;chr&gt; | dt &lt;date&gt; |\n",
       "|---|---|---|---|---|---|---|---|---|---|---|---|---|---|---|\n",
       "\n"
      ],
      "text/plain": [
       "     component_type topic_id comment_parent_id comment_id page_namespace user\n",
       "     is_anon revision_id session_id integration action edit_count\n",
       "     edit_count_bucket database dt"
      ]
     },
     "metadata": {},
     "output_type": "display_data"
    }
   ],
   "source": [
    "# make sure responses are labeled correctly\n",
    "\n",
    "response_check <- collect_talk_events %>%\n",
    "    filter(collect_talk_events$comment_parent_id \n",
    "           ==  collect_talk_events$topic_id & component_type == 'response')\n",
    "response_check"
   ]
  },
  {
   "cell_type": "code",
   "execution_count": null,
   "metadata": {},
   "outputs": [],
   "source": [
    "Confirmed there are no instances where a response event has the same comment_parent_id and topic_id."
   ]
  },
  {
   "cell_type": "code",
   "execution_count": 31,
   "metadata": {},
   "outputs": [],
   "source": [
    "non_top_level_comments <- collect_talk_events %>%\n",
    "    filter(collect_talk_events$comment_parent_id \n",
    "           !=  collect_talk_events$topic_id & component_type == 'comment')\n"
   ]
  },
  {
   "cell_type": "markdown",
   "metadata": {},
   "source": [
    "There are component_type = comment events where the comment_parent_id does not match the topic_id. Is this expected? What's the difference between this and a response?"
   ]
  },
  {
   "cell_type": "markdown",
   "metadata": {},
   "source": [
    "# KPI Test\n",
    "\n",
    "Check that I can perform the joins necessary to calculate the KPIs identifed for this data:\n",
    "- For all comments and new topics with a response, the average time duration from a contributor posting on a talk page to them receiving a response from a Junior Contributor by post type (e.g. comment and new topics)"
   ]
  },
  {
   "cell_type": "code",
   "execution_count": null,
   "metadata": {},
   "outputs": [],
   "source": [
    "If there's a response, then it should be listed as a parent_id\n",
    "- You can find comments and topics without a response by looking for new comment_ids that are not also labeled as comment_parent_ids\n"
   ]
  },
  {
   "cell_type": "code",
   "execution_count": 32,
   "metadata": {},
   "outputs": [],
   "source": [
    "comments_with_response <- collect_talk_events  %>%\n",
    "    filter(comment_id %in% comment_parent_id) # confirms that the comment recieved a response at some point\n"
   ]
  },
  {
   "cell_type": "markdown",
   "metadata": {},
   "source": [
    "Steps would be to find all sessions \n",
    "- Find all sessions where comment_id is in the comment_parent_id list. These are all topics or new comments that have received a response. FEASIBLE\n",
    "- Select the user_id and dt and comment_parent_id and timestamp for all these comments. FEASIBLE\n",
    "- Find sessions events where comment_id is equal to the comment_parent_id. These are all comments that have received a response. FEASBILE: JOIN Comment_parent_id on comment_id\n",
    "- Find the user_id and timestamp for these comments. FEASIBLE\n",
    "- Final Query is to subtract the two timestamps FEASIBLE"
   ]
  },
  {
   "cell_type": "code",
   "execution_count": null,
   "metadata": {},
   "outputs": [],
   "source": [
    "# Check to see if you can find comment_parent_id in the comment_id list"
   ]
  },
  {
   "cell_type": "code",
   "execution_count": 33,
   "metadata": {},
   "outputs": [],
   "source": [
    "comments_without_response <- collect_talk_events  %>%\n",
    "    filter(comment_parent_id %in% comment_id) # confirms that the comment recieved a response at some point\n",
    "\n"
   ]
  },
  {
   "cell_type": "markdown",
   "metadata": {},
   "source": [
    "# Check that the timestamp for the initial comment occurs before the response"
   ]
  },
  {
   "cell_type": "code",
   "execution_count": null,
   "metadata": {},
   "outputs": [],
   "source": [
    "initial_comment_data <- collect_talk_events  %>%\n",
    "    filter(comment_parent_id == 'c-Barter84-2021-11-09T16:17:00.000Z-Djhuty-2021-11-08T15:14:00.000Z') \n",
    "\n",
    "initial_comment_data"
   ]
  },
  {
   "cell_type": "code",
   "execution_count": null,
   "metadata": {},
   "outputs": [],
   "source": [
    "response_comment_data <- collect_talk_events  %>%\n",
    "    filter(comment_id == 'c-Barter84-2021-11-09T16:17:00.000Z-Djhuty-2021-11-08T15:14:00.000Z') \n",
    "\n",
    "response_comment_data"
   ]
  },
  {
   "cell_type": "code",
   "execution_count": null,
   "metadata": {},
   "outputs": [],
   "source": [
    "# Check if there are duplicate comment_id events\n",
    " duplicate_comments <- collect_talk_events %>%\n",
    "     group_by(comment_id) %>% \n",
    "      filter(n()>1)\n",
    " "
   ]
  },
  {
   "cell_type": "markdown",
   "metadata": {},
   "source": [
    "Potential Issues: There's s number of events with the same comment_id logged. Different revision and sessions ids. Why would this happen?"
   ]
  },
  {
   "cell_type": "markdown",
   "metadata": {},
   "source": [
    "# Check joins to EditAttemptStep"
   ]
  },
  {
   "cell_type": "code",
   "execution_count": 25,
   "metadata": {},
   "outputs": [],
   "source": [
    "query <-\n",
    "\n",
    "\"SELECT\n",
    "  tpe.session_id,\n",
    "  eas.event.editing_session_id,\n",
    "  tpe.performer.user_id,\n",
    "  eas.event.user_id\n",
    "FROM\n",
    "  event.mediawiki_talk_page_edit tpe\n",
    "LEFT JOIN \n",
    "  event.editattemptstep eas\n",
    "  ON session_id = eas.event.editing_session_id\n",
    "  AND eas.year = 2021 and eas.MOnth >= 11\n",
    "  WHERE\n",
    "  tpe.year = 2021\n",
    "  and tpe.month = 11\n",
    "  AND tpe.integration = 'discussiontools'\n",
    "\n",
    "\""
   ]
  },
  {
   "cell_type": "code",
   "execution_count": 26,
   "metadata": {},
   "outputs": [
    {
     "name": "stderr",
     "output_type": "stream",
     "text": [
      "Don't forget to authenticate with Kerberos using kinit\n",
      "\n"
     ]
    }
   ],
   "source": [
    "collect_talk_events_weditor  <-  wmfdata::query_hive(query)"
   ]
  },
  {
   "cell_type": "code",
   "execution_count": null,
   "metadata": {},
   "outputs": [],
   "source": [
    "collect_talk_events_weditor %>%\n",
    "    filter(editing_session_id == 'NULL')"
   ]
  },
  {
   "cell_type": "markdown",
   "metadata": {},
   "source": [
    "There's some sessions in editattemptstep but not all. All discussiontools related sessions are in editattemptstep but not all page related sessions. This is likely due to sampling differences. Need to see if we can match sampling rates. That's where we get platform data so we'll need to apply the same sampling rates as possible. "
   ]
  }
 ],
 "metadata": {
  "kernelspec": {
   "display_name": "R",
   "language": "R",
   "name": "ir"
  },
  "language_info": {
   "codemirror_mode": "r",
   "file_extension": ".r",
   "mimetype": "text/x-r-source",
   "name": "R",
   "pygments_lexer": "r",
   "version": "3.5.2"
  }
 },
 "nbformat": 4,
 "nbformat_minor": 4
}
