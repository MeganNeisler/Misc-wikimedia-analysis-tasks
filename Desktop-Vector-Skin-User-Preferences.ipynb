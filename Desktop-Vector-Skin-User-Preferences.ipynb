{
 "cells": [
  {
   "cell_type": "markdown",
   "metadata": {},
   "source": [
    "# Desktop Vector Skin Version User Preferences"
   ]
  },
  {
   "cell_type": "markdown",
   "metadata": {},
   "source": [
    "Pending resolution of identified Prefupdate bugs, I reviewed the mediawiki [user_properties table](https://www.mediawiki.org/wiki/Manual:User_properties_table) to determine the total number of users with each vector skin preference set for each of the test wiki. Note: Unlike PrefUpdate, this does not record every change in users preference but stores any current non-default state of the user's preference. As result, this data may included users that enabled and disabled their vectorskin version preference multiple times. \n"
   ]
  },
  {
   "cell_type": "markdown",
   "metadata": {},
   "source": [
    "## Data Notes:\n",
    "\n",
    "This reflects all current nondefault user preferences. If a user has not made any changes to their vector skin version then there will be no record for that user in this table and skin preference is default (i.e. Modern for logged-in users on test wikis)\n",
    "* Only accounts for logged-in users.\n",
    "* Data reflects the current state and does not account for users that opt in and opt out multiple times since deployment.\n",
    "* Based on the context that the new vector skin was deployed as the default setting for all logged-in users on the wikis below, we can assume each of the values mean the following:\n",
    "    * Legacy: These are users that have currently opt'd out of the modern version.\n",
    "    * Modern: These are users that opt'd out and then opt'd back in to the modern version. (Note: This number does not reflect the total number of users that are using the modern skin; only the users that made changes to their default preferences)\n",
    "    * Unknown: There were a few VectorSkinVersion values set to 0 (instead of 1 [legacy] or 2[modern]). I need to further investigate what those values indicate."
   ]
  },
  {
   "cell_type": "markdown",
   "metadata": {},
   "source": [
    "## Remaining To Dos:\n",
    " - Investigate what `VectorSkinVersion` set to 0 means.\n",
    " - Look into options of putting on superset dashboard.\n",
    " - Pending resolution of PrefUpdate bugs or new schema, show opt-out rate over time.\n",
    " - Confirm user table does not include only users. "
   ]
  },
  {
   "cell_type": "code",
   "execution_count": 47,
   "metadata": {},
   "outputs": [],
   "source": [
    "from wmfdata import mariadb\n",
    "import pandas as pd\n",
    "import numpy as np"
   ]
  },
  {
   "cell_type": "code",
   "execution_count": 139,
   "metadata": {},
   "outputs": [],
   "source": [
    "query = \"\"\" \n",
    "SELECT \n",
    "    up_value as skin,\n",
    "    COUNT(*) as users\n",
    "FROM user_properties\n",
    "WHERE \n",
    "    up_property = 'VectorSkinVersion'\n",
    "GROUP BY up_value \"\"\""
   ]
  },
  {
   "cell_type": "code",
   "execution_count": 150,
   "metadata": {},
   "outputs": [],
   "source": [
    "#define list of target wikis\n",
    "wikis = ['euwiki','frwiktionary', 'ptwikiversity', 'fawiki','hewiki', 'frwiki']"
   ]
  },
  {
   "cell_type": "code",
   "execution_count": 141,
   "metadata": {},
   "outputs": [],
   "source": [
    "up_skin=list()\n",
    "for wiki in wikis:\n",
    "    prefs = mariadb.run(\n",
    "      query.format(),\n",
    "      wiki\n",
    "    )\n",
    "    up_skin.append(prefs)\n",
    "\n",
    "skin= pd.concat(up_skin)"
   ]
  },
  {
   "cell_type": "code",
   "execution_count": 142,
   "metadata": {},
   "outputs": [
    {
     "name": "stdout",
     "output_type": "stream",
     "text": [
      "Total number of users for whom we have vector skin preferences set in the user_properties table: 226605\n"
     ]
    }
   ],
   "source": [
    "skin_users = skin['users'].sum()\n",
    "print('Total number of users for whom we have vector skin preferences set in the user_properties table:' , skin_users)"
   ]
  },
  {
   "cell_type": "code",
   "execution_count": 143,
   "metadata": {},
   "outputs": [],
   "source": [
    "skin_aliases = {\n",
    "    \"0\":\"unknown\",\n",
    "    \"1\":\"legacy\",\n",
    "    \"2\":\"modern\"\n",
    "}\n",
    "\n",
    "skin= skin.replace({\"skin\": skin_aliases})"
   ]
  },
  {
   "cell_type": "markdown",
   "metadata": {},
   "source": [
    "# Number of users for each skin type overall"
   ]
  },
  {
   "cell_type": "code",
   "execution_count": 144,
   "metadata": {},
   "outputs": [
    {
     "data": {
      "text/html": [
       "<div>\n",
       "<style scoped>\n",
       "    .dataframe tbody tr th:only-of-type {\n",
       "        vertical-align: middle;\n",
       "    }\n",
       "\n",
       "    .dataframe tbody tr th {\n",
       "        vertical-align: top;\n",
       "    }\n",
       "\n",
       "    .dataframe thead th {\n",
       "        text-align: right;\n",
       "    }\n",
       "</style>\n",
       "<table border=\"1\" class=\"dataframe\">\n",
       "  <thead>\n",
       "    <tr style=\"text-align: right;\">\n",
       "      <th></th>\n",
       "      <th>users</th>\n",
       "    </tr>\n",
       "    <tr>\n",
       "      <th>skin</th>\n",
       "      <th></th>\n",
       "    </tr>\n",
       "  </thead>\n",
       "  <tbody>\n",
       "    <tr>\n",
       "      <th>legacy</th>\n",
       "      <td>128242</td>\n",
       "    </tr>\n",
       "    <tr>\n",
       "      <th>modern</th>\n",
       "      <td>98334</td>\n",
       "    </tr>\n",
       "    <tr>\n",
       "      <th>unknown</th>\n",
       "      <td>29</td>\n",
       "    </tr>\n",
       "  </tbody>\n",
       "</table>\n",
       "</div>"
      ],
      "text/plain": [
       "          users\n",
       "skin           \n",
       "legacy   128242\n",
       "modern    98334\n",
       "unknown      29"
      ]
     },
     "execution_count": 144,
     "metadata": {},
     "output_type": "execute_result"
    }
   ],
   "source": [
    "user_skin=skin.groupby('skin').sum()\n",
    "user_skin"
   ]
  },
  {
   "cell_type": "markdown",
   "metadata": {},
   "source": [
    "# Number of users for each skin type by wiki"
   ]
  },
  {
   "cell_type": "code",
   "execution_count": 145,
   "metadata": {},
   "outputs": [],
   "source": [
    "#List of wikis to correspond to data values \n",
    "wikis_list = ['euwiki','euwiki', 'frwiktionary',  'frwiktionary',  'frwiktionary', 'ptwikiversity', 'ptwikiversity','fawiki', 'fawiki', 'fawiki','hewiki', 'hewiki', 'hewiki', 'frwiki', 'frwiki', 'frwiki']"
   ]
  },
  {
   "cell_type": "code",
   "execution_count": 146,
   "metadata": {},
   "outputs": [],
   "source": [
    "skin['wiki'] = wikis_list"
   ]
  },
  {
   "cell_type": "code",
   "execution_count": 147,
   "metadata": {},
   "outputs": [
    {
     "data": {
      "text/html": [
       "<div>\n",
       "<style scoped>\n",
       "    .dataframe tbody tr th:only-of-type {\n",
       "        vertical-align: middle;\n",
       "    }\n",
       "\n",
       "    .dataframe tbody tr th {\n",
       "        vertical-align: top;\n",
       "    }\n",
       "\n",
       "    .dataframe thead th {\n",
       "        text-align: right;\n",
       "    }\n",
       "</style>\n",
       "<table border=\"1\" class=\"dataframe\">\n",
       "  <thead>\n",
       "    <tr style=\"text-align: right;\">\n",
       "      <th></th>\n",
       "      <th>skin</th>\n",
       "      <th>users</th>\n",
       "      <th>wiki</th>\n",
       "    </tr>\n",
       "  </thead>\n",
       "  <tbody>\n",
       "    <tr>\n",
       "      <th>0</th>\n",
       "      <td>legacy</td>\n",
       "      <td>2067</td>\n",
       "      <td>euwiki</td>\n",
       "    </tr>\n",
       "    <tr>\n",
       "      <th>1</th>\n",
       "      <td>modern</td>\n",
       "      <td>1852</td>\n",
       "      <td>euwiki</td>\n",
       "    </tr>\n",
       "    <tr>\n",
       "      <th>0</th>\n",
       "      <td>unknown</td>\n",
       "      <td>6</td>\n",
       "      <td>frwiktionary</td>\n",
       "    </tr>\n",
       "    <tr>\n",
       "      <th>1</th>\n",
       "      <td>legacy</td>\n",
       "      <td>4684</td>\n",
       "      <td>frwiktionary</td>\n",
       "    </tr>\n",
       "    <tr>\n",
       "      <th>2</th>\n",
       "      <td>modern</td>\n",
       "      <td>3899</td>\n",
       "      <td>frwiktionary</td>\n",
       "    </tr>\n",
       "    <tr>\n",
       "      <th>0</th>\n",
       "      <td>legacy</td>\n",
       "      <td>480</td>\n",
       "      <td>ptwikiversity</td>\n",
       "    </tr>\n",
       "    <tr>\n",
       "      <th>1</th>\n",
       "      <td>modern</td>\n",
       "      <td>462</td>\n",
       "      <td>ptwikiversity</td>\n",
       "    </tr>\n",
       "    <tr>\n",
       "      <th>0</th>\n",
       "      <td>unknown</td>\n",
       "      <td>2</td>\n",
       "      <td>fawiki</td>\n",
       "    </tr>\n",
       "    <tr>\n",
       "      <th>1</th>\n",
       "      <td>legacy</td>\n",
       "      <td>21442</td>\n",
       "      <td>fawiki</td>\n",
       "    </tr>\n",
       "    <tr>\n",
       "      <th>2</th>\n",
       "      <td>modern</td>\n",
       "      <td>22046</td>\n",
       "      <td>fawiki</td>\n",
       "    </tr>\n",
       "    <tr>\n",
       "      <th>0</th>\n",
       "      <td>unknown</td>\n",
       "      <td>2</td>\n",
       "      <td>hewiki</td>\n",
       "    </tr>\n",
       "    <tr>\n",
       "      <th>1</th>\n",
       "      <td>legacy</td>\n",
       "      <td>28034</td>\n",
       "      <td>hewiki</td>\n",
       "    </tr>\n",
       "    <tr>\n",
       "      <th>2</th>\n",
       "      <td>modern</td>\n",
       "      <td>20890</td>\n",
       "      <td>hewiki</td>\n",
       "    </tr>\n",
       "    <tr>\n",
       "      <th>0</th>\n",
       "      <td>unknown</td>\n",
       "      <td>19</td>\n",
       "      <td>frwiki</td>\n",
       "    </tr>\n",
       "    <tr>\n",
       "      <th>1</th>\n",
       "      <td>legacy</td>\n",
       "      <td>71535</td>\n",
       "      <td>frwiki</td>\n",
       "    </tr>\n",
       "    <tr>\n",
       "      <th>2</th>\n",
       "      <td>modern</td>\n",
       "      <td>49185</td>\n",
       "      <td>frwiki</td>\n",
       "    </tr>\n",
       "  </tbody>\n",
       "</table>\n",
       "</div>"
      ],
      "text/plain": [
       "      skin  users           wiki\n",
       "0   legacy   2067         euwiki\n",
       "1   modern   1852         euwiki\n",
       "0  unknown      6   frwiktionary\n",
       "1   legacy   4684   frwiktionary\n",
       "2   modern   3899   frwiktionary\n",
       "0   legacy    480  ptwikiversity\n",
       "1   modern    462  ptwikiversity\n",
       "0  unknown      2         fawiki\n",
       "1   legacy  21442         fawiki\n",
       "2   modern  22046         fawiki\n",
       "0  unknown      2         hewiki\n",
       "1   legacy  28034         hewiki\n",
       "2   modern  20890         hewiki\n",
       "0  unknown     19         frwiki\n",
       "1   legacy  71535         frwiki\n",
       "2   modern  49185         frwiki"
      ]
     },
     "execution_count": 147,
     "metadata": {},
     "output_type": "execute_result"
    }
   ],
   "source": [
    "skin"
   ]
  },
  {
   "cell_type": "code",
   "execution_count": 148,
   "metadata": {},
   "outputs": [],
   "source": [
    "user_skin_bywiki=pd.pivot_table(skin, index=['wiki','skin'],values=['users'],aggfunc=np.sum)"
   ]
  },
  {
   "cell_type": "code",
   "execution_count": 149,
   "metadata": {},
   "outputs": [
    {
     "data": {
      "text/html": [
       "<div>\n",
       "<style scoped>\n",
       "    .dataframe tbody tr th:only-of-type {\n",
       "        vertical-align: middle;\n",
       "    }\n",
       "\n",
       "    .dataframe tbody tr th {\n",
       "        vertical-align: top;\n",
       "    }\n",
       "\n",
       "    .dataframe thead th {\n",
       "        text-align: right;\n",
       "    }\n",
       "</style>\n",
       "<table border=\"1\" class=\"dataframe\">\n",
       "  <thead>\n",
       "    <tr style=\"text-align: right;\">\n",
       "      <th></th>\n",
       "      <th></th>\n",
       "      <th>users</th>\n",
       "    </tr>\n",
       "    <tr>\n",
       "      <th>wiki</th>\n",
       "      <th>skin</th>\n",
       "      <th></th>\n",
       "    </tr>\n",
       "  </thead>\n",
       "  <tbody>\n",
       "    <tr>\n",
       "      <th rowspan=\"2\" valign=\"top\">euwiki</th>\n",
       "      <th>legacy</th>\n",
       "      <td>2067</td>\n",
       "    </tr>\n",
       "    <tr>\n",
       "      <th>modern</th>\n",
       "      <td>1852</td>\n",
       "    </tr>\n",
       "    <tr>\n",
       "      <th rowspan=\"3\" valign=\"top\">fawiki</th>\n",
       "      <th>legacy</th>\n",
       "      <td>21442</td>\n",
       "    </tr>\n",
       "    <tr>\n",
       "      <th>modern</th>\n",
       "      <td>22046</td>\n",
       "    </tr>\n",
       "    <tr>\n",
       "      <th>unknown</th>\n",
       "      <td>2</td>\n",
       "    </tr>\n",
       "    <tr>\n",
       "      <th rowspan=\"3\" valign=\"top\">frwiki</th>\n",
       "      <th>legacy</th>\n",
       "      <td>71535</td>\n",
       "    </tr>\n",
       "    <tr>\n",
       "      <th>modern</th>\n",
       "      <td>49185</td>\n",
       "    </tr>\n",
       "    <tr>\n",
       "      <th>unknown</th>\n",
       "      <td>19</td>\n",
       "    </tr>\n",
       "    <tr>\n",
       "      <th rowspan=\"3\" valign=\"top\">frwiktionary</th>\n",
       "      <th>legacy</th>\n",
       "      <td>4684</td>\n",
       "    </tr>\n",
       "    <tr>\n",
       "      <th>modern</th>\n",
       "      <td>3899</td>\n",
       "    </tr>\n",
       "    <tr>\n",
       "      <th>unknown</th>\n",
       "      <td>6</td>\n",
       "    </tr>\n",
       "    <tr>\n",
       "      <th rowspan=\"3\" valign=\"top\">hewiki</th>\n",
       "      <th>legacy</th>\n",
       "      <td>28034</td>\n",
       "    </tr>\n",
       "    <tr>\n",
       "      <th>modern</th>\n",
       "      <td>20890</td>\n",
       "    </tr>\n",
       "    <tr>\n",
       "      <th>unknown</th>\n",
       "      <td>2</td>\n",
       "    </tr>\n",
       "    <tr>\n",
       "      <th rowspan=\"2\" valign=\"top\">ptwikiversity</th>\n",
       "      <th>legacy</th>\n",
       "      <td>480</td>\n",
       "    </tr>\n",
       "    <tr>\n",
       "      <th>modern</th>\n",
       "      <td>462</td>\n",
       "    </tr>\n",
       "  </tbody>\n",
       "</table>\n",
       "</div>"
      ],
      "text/plain": [
       "                       users\n",
       "wiki          skin          \n",
       "euwiki        legacy    2067\n",
       "              modern    1852\n",
       "fawiki        legacy   21442\n",
       "              modern   22046\n",
       "              unknown      2\n",
       "frwiki        legacy   71535\n",
       "              modern   49185\n",
       "              unknown     19\n",
       "frwiktionary  legacy    4684\n",
       "              modern    3899\n",
       "              unknown      6\n",
       "hewiki        legacy   28034\n",
       "              modern   20890\n",
       "              unknown      2\n",
       "ptwikiversity legacy     480\n",
       "              modern     462"
      ]
     },
     "execution_count": 149,
     "metadata": {},
     "output_type": "execute_result"
    }
   ],
   "source": [
    "user_skin_bywiki"
   ]
  },
  {
   "cell_type": "markdown",
   "metadata": {},
   "source": [
    "## Total Number of Users on Test Wikis"
   ]
  },
  {
   "cell_type": "markdown",
   "metadata": {},
   "source": [
    "We can use the total number of users on test wikis using the [mediawiki user table](https://www.mediawiki.org/wiki/Manual:User_table) to estimate the opt-out rate."
   ]
  },
  {
   "cell_type": "code",
   "execution_count": 155,
   "metadata": {},
   "outputs": [],
   "source": [
    "# collect total number of users on each wiki\n",
    "\n",
    "query = \"\"\" \n",
    "SELECT \n",
    "    COUNT(DISTINCT user_id) AS num_users\n",
    "FROM user\"\"\"\n"
   ]
  },
  {
   "cell_type": "code",
   "execution_count": 156,
   "metadata": {},
   "outputs": [],
   "source": [
    "user_count = mariadb.run(commands = query, dbs = wikis, format=\"pandas\")"
   ]
  },
  {
   "cell_type": "code",
   "execution_count": 157,
   "metadata": {},
   "outputs": [],
   "source": [
    "user_count['wiki'] = wikis"
   ]
  },
  {
   "cell_type": "code",
   "execution_count": 158,
   "metadata": {},
   "outputs": [
    {
     "data": {
      "text/html": [
       "<div>\n",
       "<style scoped>\n",
       "    .dataframe tbody tr th:only-of-type {\n",
       "        vertical-align: middle;\n",
       "    }\n",
       "\n",
       "    .dataframe tbody tr th {\n",
       "        vertical-align: top;\n",
       "    }\n",
       "\n",
       "    .dataframe thead th {\n",
       "        text-align: right;\n",
       "    }\n",
       "</style>\n",
       "<table border=\"1\" class=\"dataframe\">\n",
       "  <thead>\n",
       "    <tr style=\"text-align: right;\">\n",
       "      <th></th>\n",
       "      <th>num_users</th>\n",
       "      <th>wiki</th>\n",
       "    </tr>\n",
       "  </thead>\n",
       "  <tbody>\n",
       "    <tr>\n",
       "      <th>0</th>\n",
       "      <td>115786</td>\n",
       "      <td>euwiki</td>\n",
       "    </tr>\n",
       "    <tr>\n",
       "      <th>1</th>\n",
       "      <td>291868</td>\n",
       "      <td>frwiktionary</td>\n",
       "    </tr>\n",
       "    <tr>\n",
       "      <th>2</th>\n",
       "      <td>29455</td>\n",
       "      <td>ptwikiversity</td>\n",
       "    </tr>\n",
       "    <tr>\n",
       "      <th>3</th>\n",
       "      <td>963101</td>\n",
       "      <td>fawiki</td>\n",
       "    </tr>\n",
       "    <tr>\n",
       "      <th>4</th>\n",
       "      <td>685306</td>\n",
       "      <td>hewiki</td>\n",
       "    </tr>\n",
       "    <tr>\n",
       "      <th>5</th>\n",
       "      <td>3905482</td>\n",
       "      <td>frwiki</td>\n",
       "    </tr>\n",
       "  </tbody>\n",
       "</table>\n",
       "</div>"
      ],
      "text/plain": [
       "   num_users           wiki\n",
       "0     115786         euwiki\n",
       "1     291868   frwiktionary\n",
       "2      29455  ptwikiversity\n",
       "3     963101         fawiki\n",
       "4     685306         hewiki\n",
       "5    3905482         frwiki"
      ]
     },
     "execution_count": 158,
     "metadata": {},
     "output_type": "execute_result"
    }
   ],
   "source": [
    "user_count"
   ]
  },
  {
   "cell_type": "markdown",
   "metadata": {},
   "source": [
    "## Calculating Opt Out Rate\n",
    "\n",
    "The opt-out rate was calculated by dividing the total number of users with their vector version preference changed to 'legacy' by the total number of all registered users on the wiki. "
   ]
  },
  {
   "cell_type": "code",
   "execution_count": 166,
   "metadata": {},
   "outputs": [],
   "source": [
    "# Create list of legacy users - these are all users that opt-out assuming modern is the default\n",
    "\n",
    "legacy_users = skin[skin['skin']=='legacy']\n",
    "#rename colums\n",
    "\n",
    "legacy_users.columns = ['skin', 'num_legacy_users', 'wiki']\n"
   ]
  },
  {
   "cell_type": "code",
   "execution_count": 172,
   "metadata": {},
   "outputs": [
    {
     "data": {
      "text/html": [
       "<div>\n",
       "<style scoped>\n",
       "    .dataframe tbody tr th:only-of-type {\n",
       "        vertical-align: middle;\n",
       "    }\n",
       "\n",
       "    .dataframe tbody tr th {\n",
       "        vertical-align: top;\n",
       "    }\n",
       "\n",
       "    .dataframe thead th {\n",
       "        text-align: right;\n",
       "    }\n",
       "</style>\n",
       "<table border=\"1\" class=\"dataframe\">\n",
       "  <thead>\n",
       "    <tr style=\"text-align: right;\">\n",
       "      <th></th>\n",
       "      <th>skin</th>\n",
       "      <th>num_legacy_users</th>\n",
       "      <th>wiki</th>\n",
       "      <th>num_users</th>\n",
       "    </tr>\n",
       "  </thead>\n",
       "  <tbody>\n",
       "    <tr>\n",
       "      <th>0</th>\n",
       "      <td>legacy</td>\n",
       "      <td>2067</td>\n",
       "      <td>euwiki</td>\n",
       "      <td>115786</td>\n",
       "    </tr>\n",
       "    <tr>\n",
       "      <th>1</th>\n",
       "      <td>legacy</td>\n",
       "      <td>4684</td>\n",
       "      <td>frwiktionary</td>\n",
       "      <td>291868</td>\n",
       "    </tr>\n",
       "    <tr>\n",
       "      <th>2</th>\n",
       "      <td>legacy</td>\n",
       "      <td>480</td>\n",
       "      <td>ptwikiversity</td>\n",
       "      <td>29455</td>\n",
       "    </tr>\n",
       "    <tr>\n",
       "      <th>3</th>\n",
       "      <td>legacy</td>\n",
       "      <td>21442</td>\n",
       "      <td>fawiki</td>\n",
       "      <td>963101</td>\n",
       "    </tr>\n",
       "    <tr>\n",
       "      <th>4</th>\n",
       "      <td>legacy</td>\n",
       "      <td>28034</td>\n",
       "      <td>hewiki</td>\n",
       "      <td>685306</td>\n",
       "    </tr>\n",
       "    <tr>\n",
       "      <th>5</th>\n",
       "      <td>legacy</td>\n",
       "      <td>71535</td>\n",
       "      <td>frwiki</td>\n",
       "      <td>3905482</td>\n",
       "    </tr>\n",
       "  </tbody>\n",
       "</table>\n",
       "</div>"
      ],
      "text/plain": [
       "     skin  num_legacy_users           wiki  num_users\n",
       "0  legacy              2067         euwiki     115786\n",
       "1  legacy              4684   frwiktionary     291868\n",
       "2  legacy               480  ptwikiversity      29455\n",
       "3  legacy             21442         fawiki     963101\n",
       "4  legacy             28034         hewiki     685306\n",
       "5  legacy             71535         frwiki    3905482"
      ]
     },
     "execution_count": 172,
     "metadata": {},
     "output_type": "execute_result"
    }
   ],
   "source": [
    "# join to user_count table to obtain opt-out rate for each wiki\n",
    "\n",
    "opt_out_rate = legacy_users.merge(user_count, left_on = 'wiki', right_on = 'wiki')\n",
    "opt_out_rate"
   ]
  },
  {
   "cell_type": "code",
   "execution_count": 174,
   "metadata": {},
   "outputs": [
    {
     "data": {
      "text/html": [
       "<div>\n",
       "<style scoped>\n",
       "    .dataframe tbody tr th:only-of-type {\n",
       "        vertical-align: middle;\n",
       "    }\n",
       "\n",
       "    .dataframe tbody tr th {\n",
       "        vertical-align: top;\n",
       "    }\n",
       "\n",
       "    .dataframe thead th {\n",
       "        text-align: right;\n",
       "    }\n",
       "</style>\n",
       "<table border=\"1\" class=\"dataframe\">\n",
       "  <thead>\n",
       "    <tr style=\"text-align: right;\">\n",
       "      <th></th>\n",
       "      <th>skin</th>\n",
       "      <th>num_legacy_users</th>\n",
       "      <th>wiki</th>\n",
       "      <th>num_users</th>\n",
       "      <th>opt_out_rate</th>\n",
       "      <th>pct_opt_out_rate</th>\n",
       "    </tr>\n",
       "  </thead>\n",
       "  <tbody>\n",
       "    <tr>\n",
       "      <th>0</th>\n",
       "      <td>legacy</td>\n",
       "      <td>2067</td>\n",
       "      <td>euwiki</td>\n",
       "      <td>115786</td>\n",
       "      <td>0.017852</td>\n",
       "      <td>1.785190</td>\n",
       "    </tr>\n",
       "    <tr>\n",
       "      <th>1</th>\n",
       "      <td>legacy</td>\n",
       "      <td>4684</td>\n",
       "      <td>frwiktionary</td>\n",
       "      <td>291868</td>\n",
       "      <td>0.016048</td>\n",
       "      <td>1.604835</td>\n",
       "    </tr>\n",
       "    <tr>\n",
       "      <th>2</th>\n",
       "      <td>legacy</td>\n",
       "      <td>480</td>\n",
       "      <td>ptwikiversity</td>\n",
       "      <td>29455</td>\n",
       "      <td>0.016296</td>\n",
       "      <td>1.629604</td>\n",
       "    </tr>\n",
       "    <tr>\n",
       "      <th>3</th>\n",
       "      <td>legacy</td>\n",
       "      <td>21442</td>\n",
       "      <td>fawiki</td>\n",
       "      <td>963101</td>\n",
       "      <td>0.022264</td>\n",
       "      <td>2.226350</td>\n",
       "    </tr>\n",
       "    <tr>\n",
       "      <th>4</th>\n",
       "      <td>legacy</td>\n",
       "      <td>28034</td>\n",
       "      <td>hewiki</td>\n",
       "      <td>685306</td>\n",
       "      <td>0.040907</td>\n",
       "      <td>4.090727</td>\n",
       "    </tr>\n",
       "    <tr>\n",
       "      <th>5</th>\n",
       "      <td>legacy</td>\n",
       "      <td>71535</td>\n",
       "      <td>frwiki</td>\n",
       "      <td>3905482</td>\n",
       "      <td>0.018317</td>\n",
       "      <td>1.831656</td>\n",
       "    </tr>\n",
       "  </tbody>\n",
       "</table>\n",
       "</div>"
      ],
      "text/plain": [
       "     skin  num_legacy_users           wiki  num_users  opt_out_rate  \\\n",
       "0  legacy              2067         euwiki     115786      0.017852   \n",
       "1  legacy              4684   frwiktionary     291868      0.016048   \n",
       "2  legacy               480  ptwikiversity      29455      0.016296   \n",
       "3  legacy             21442         fawiki     963101      0.022264   \n",
       "4  legacy             28034         hewiki     685306      0.040907   \n",
       "5  legacy             71535         frwiki    3905482      0.018317   \n",
       "\n",
       "   pct_opt_out_rate  \n",
       "0          1.785190  \n",
       "1          1.604835  \n",
       "2          1.629604  \n",
       "3          2.226350  \n",
       "4          4.090727  \n",
       "5          1.831656  "
      ]
     },
     "execution_count": 174,
     "metadata": {},
     "output_type": "execute_result"
    }
   ],
   "source": [
    "# Calculate opt-out rate\n",
    "\n",
    "opt_out_rate['pct_opt_out_rate'] = opt_out_rate['num_legacy_users']/ opt_out_rate['num_users'] * 100\n",
    "\n",
    "opt_out_rate"
   ]
  }
 ],
 "metadata": {
  "kernelspec": {
   "display_name": "Python 3",
   "language": "python",
   "name": "python3"
  },
  "language_info": {
   "codemirror_mode": {
    "name": "ipython",
    "version": 3
   },
   "file_extension": ".py",
   "mimetype": "text/x-python",
   "name": "python",
   "nbconvert_exporter": "python",
   "pygments_lexer": "ipython3",
   "version": "3.7.3"
  }
 },
 "nbformat": 4,
 "nbformat_minor": 4
}
