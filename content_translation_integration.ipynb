{
 "cells": [
  {
   "cell_type": "markdown",
   "metadata": {},
   "source": [
    "# QA EditAttemtpStep Content Translation Integration\n",
    "\n",
    "[Task](https://phabricator.wikimedia.org/T270636)"
   ]
  },
  {
   "cell_type": "markdown",
   "metadata": {},
   "source": [
    "# Background\n",
    "\n",
    "Content Translation uses the visual editor codebase for its editing surface. We'd like to explicitly tag and mark events being logged in EAS and VEFU schemas as being emitted by ContentTranslation so they can be differentiated from other VE related edits.\n",
    "\n",
    "A patch was deployed on 19 August 2021 to add `integration=contenttranslation` to the EditAttemptStep schema."
   ]
  },
  {
   "cell_type": "markdown",
   "metadata": {},
   "source": [
    "# Purpose\n",
    "\n",
    "Peform post-deployment QA of aggregate data logged in EditAttemptStep to ensure that we're  seeing events getting logged with integration==contenttranslation and numbers appear as expected."
   ]
  },
  {
   "cell_type": "code",
   "execution_count": 11,
   "metadata": {},
   "outputs": [],
   "source": [
    "# load required packages\n",
    "shhh <- function(expr) suppressPackageStartupMessages(suppressWarnings(suppressMessages(expr)))\n",
    "shhh({\n",
    "    library(tidyverse); library(glue); library(lubridate); library(scales)\n",
    "})"
   ]
  },
  {
   "cell_type": "markdown",
   "metadata": {},
   "source": [
    "# QA "
   ]
  },
  {
   "cell_type": "code",
   "execution_count": 12,
   "metadata": {},
   "outputs": [],
   "source": [
    "query <-\n",
    "\n",
    "\"SELECT\n",
    "    CONCAT(year, '-', LPAD(month, 2, '0'), '-', LPAD(day, 2, '0')) as `date`,\n",
    "    event.action AS action,\n",
    "    event.init_type AS init_type,\n",
    "    event.platform As platform,\n",
    "    event.integration AS integration,\n",
    "    event.user_id AS user_id,\n",
    "    event.editing_session_id AS session_id\n",
    "FROM event.editattemptstep\n",
    "WHERE year = 2021\n",
    "AND month = 08\n",
    "AND Day >= 16;\n",
    "\""
   ]
  },
  {
   "cell_type": "code",
   "execution_count": 13,
   "metadata": {},
   "outputs": [
    {
     "name": "stderr",
     "output_type": "stream",
     "text": [
      "Don't forget to authenticate with Kerberos using kinit\n",
      "\n"
     ]
    }
   ],
   "source": [
    "edit_data <- wmfdata::query_hive(query)"
   ]
  },
  {
   "cell_type": "code",
   "execution_count": 14,
   "metadata": {},
   "outputs": [],
   "source": [
    "# reformat as date\n",
    "edit_data$date <- as.Date(edit_data$date, format = \"%Y-%m-%d\")"
   ]
  },
  {
   "cell_type": "code",
   "execution_count": 15,
   "metadata": {},
   "outputs": [
    {
     "name": "stderr",
     "output_type": "stream",
     "text": [
      "`summarise()` regrouping output by 'date' (override with `.groups` argument)\n",
      "\n"
     ]
    },
    {
     "data": {
      "text/html": [
       "<table>\n",
       "<caption>A grouped_df: 20 × 3</caption>\n",
       "<thead>\n",
       "\t<tr><th scope=col>date</th><th scope=col>integration</th><th scope=col>num_events</th></tr>\n",
       "\t<tr><th scope=col>&lt;date&gt;</th><th scope=col>&lt;chr&gt;</th><th scope=col>&lt;int&gt;</th></tr>\n",
       "</thead>\n",
       "<tbody>\n",
       "\t<tr><td>2021-08-16</td><td>discussiontools</td><td> 10555</td></tr>\n",
       "\t<tr><td>2021-08-16</td><td>page           </td><td>771480</td></tr>\n",
       "\t<tr><td>2021-08-17</td><td>discussiontools</td><td> 11463</td></tr>\n",
       "\t<tr><td>2021-08-17</td><td>page           </td><td>776002</td></tr>\n",
       "\t<tr><td>2021-08-18</td><td>discussiontools</td><td> 11089</td></tr>\n",
       "\t<tr><td>2021-08-18</td><td>page           </td><td>774257</td></tr>\n",
       "\t<tr><td>2021-08-19</td><td>discussiontools</td><td>  9949</td></tr>\n",
       "\t<tr><td>2021-08-19</td><td>page           </td><td>759417</td></tr>\n",
       "\t<tr><td>2021-08-20</td><td>discussiontools</td><td> 10400</td></tr>\n",
       "\t<tr><td>2021-08-20</td><td>page           </td><td>737293</td></tr>\n",
       "\t<tr><td>2021-08-21</td><td>discussiontools</td><td>  9000</td></tr>\n",
       "\t<tr><td>2021-08-21</td><td>page           </td><td>788671</td></tr>\n",
       "\t<tr><td>2021-08-22</td><td>discussiontools</td><td>  9357</td></tr>\n",
       "\t<tr><td>2021-08-22</td><td>page           </td><td>778499</td></tr>\n",
       "\t<tr><td>2021-08-23</td><td>discussiontools</td><td> 10861</td></tr>\n",
       "\t<tr><td>2021-08-23</td><td>page           </td><td>768679</td></tr>\n",
       "\t<tr><td>2021-08-24</td><td>discussiontools</td><td>  9938</td></tr>\n",
       "\t<tr><td>2021-08-24</td><td>page           </td><td>770170</td></tr>\n",
       "\t<tr><td>2021-08-25</td><td>discussiontools</td><td>  6428</td></tr>\n",
       "\t<tr><td>2021-08-25</td><td>page           </td><td>509481</td></tr>\n",
       "</tbody>\n",
       "</table>\n"
      ],
      "text/latex": [
       "A grouped\\_df: 20 × 3\n",
       "\\begin{tabular}{lll}\n",
       " date & integration & num\\_events\\\\\n",
       " <date> & <chr> & <int>\\\\\n",
       "\\hline\n",
       "\t 2021-08-16 & discussiontools &  10555\\\\\n",
       "\t 2021-08-16 & page            & 771480\\\\\n",
       "\t 2021-08-17 & discussiontools &  11463\\\\\n",
       "\t 2021-08-17 & page            & 776002\\\\\n",
       "\t 2021-08-18 & discussiontools &  11089\\\\\n",
       "\t 2021-08-18 & page            & 774257\\\\\n",
       "\t 2021-08-19 & discussiontools &   9949\\\\\n",
       "\t 2021-08-19 & page            & 759417\\\\\n",
       "\t 2021-08-20 & discussiontools &  10400\\\\\n",
       "\t 2021-08-20 & page            & 737293\\\\\n",
       "\t 2021-08-21 & discussiontools &   9000\\\\\n",
       "\t 2021-08-21 & page            & 788671\\\\\n",
       "\t 2021-08-22 & discussiontools &   9357\\\\\n",
       "\t 2021-08-22 & page            & 778499\\\\\n",
       "\t 2021-08-23 & discussiontools &  10861\\\\\n",
       "\t 2021-08-23 & page            & 768679\\\\\n",
       "\t 2021-08-24 & discussiontools &   9938\\\\\n",
       "\t 2021-08-24 & page            & 770170\\\\\n",
       "\t 2021-08-25 & discussiontools &   6428\\\\\n",
       "\t 2021-08-25 & page            & 509481\\\\\n",
       "\\end{tabular}\n"
      ],
      "text/markdown": [
       "\n",
       "A grouped_df: 20 × 3\n",
       "\n",
       "| date &lt;date&gt; | integration &lt;chr&gt; | num_events &lt;int&gt; |\n",
       "|---|---|---|\n",
       "| 2021-08-16 | discussiontools |  10555 |\n",
       "| 2021-08-16 | page            | 771480 |\n",
       "| 2021-08-17 | discussiontools |  11463 |\n",
       "| 2021-08-17 | page            | 776002 |\n",
       "| 2021-08-18 | discussiontools |  11089 |\n",
       "| 2021-08-18 | page            | 774257 |\n",
       "| 2021-08-19 | discussiontools |   9949 |\n",
       "| 2021-08-19 | page            | 759417 |\n",
       "| 2021-08-20 | discussiontools |  10400 |\n",
       "| 2021-08-20 | page            | 737293 |\n",
       "| 2021-08-21 | discussiontools |   9000 |\n",
       "| 2021-08-21 | page            | 788671 |\n",
       "| 2021-08-22 | discussiontools |   9357 |\n",
       "| 2021-08-22 | page            | 778499 |\n",
       "| 2021-08-23 | discussiontools |  10861 |\n",
       "| 2021-08-23 | page            | 768679 |\n",
       "| 2021-08-24 | discussiontools |   9938 |\n",
       "| 2021-08-24 | page            | 770170 |\n",
       "| 2021-08-25 | discussiontools |   6428 |\n",
       "| 2021-08-25 | page            | 509481 |\n",
       "\n"
      ],
      "text/plain": [
       "   date       integration     num_events\n",
       "1  2021-08-16 discussiontools  10555    \n",
       "2  2021-08-16 page            771480    \n",
       "3  2021-08-17 discussiontools  11463    \n",
       "4  2021-08-17 page            776002    \n",
       "5  2021-08-18 discussiontools  11089    \n",
       "6  2021-08-18 page            774257    \n",
       "7  2021-08-19 discussiontools   9949    \n",
       "8  2021-08-19 page            759417    \n",
       "9  2021-08-20 discussiontools  10400    \n",
       "10 2021-08-20 page            737293    \n",
       "11 2021-08-21 discussiontools   9000    \n",
       "12 2021-08-21 page            788671    \n",
       "13 2021-08-22 discussiontools   9357    \n",
       "14 2021-08-22 page            778499    \n",
       "15 2021-08-23 discussiontools  10861    \n",
       "16 2021-08-23 page            768679    \n",
       "17 2021-08-24 discussiontools   9938    \n",
       "18 2021-08-24 page            770170    \n",
       "19 2021-08-25 discussiontools   6428    \n",
       "20 2021-08-25 page            509481    "
      ]
     },
     "metadata": {},
     "output_type": "display_data"
    }
   ],
   "source": [
    "# check for when content translation events started logging\n",
    "\n",
    "ct_events_daily <- edit_data %>%\n",
    "    ##filter(integration == 'contenttranslation') %>%\n",
    "    group_by(date, integration)%>%\n",
    "    summarise(num_events = n())\n",
    "\n",
    "ct_events_daily "
   ]
  },
  {
   "cell_type": "code",
   "execution_count": null,
   "metadata": {},
   "outputs": [],
   "source": [
    "No contenttranslation events recorded to date"
   ]
  }
 ],
 "metadata": {
  "kernelspec": {
   "display_name": "R",
   "language": "R",
   "name": "ir"
  },
  "language_info": {
   "codemirror_mode": "r",
   "file_extension": ".r",
   "mimetype": "text/x-r-source",
   "name": "R",
   "pygments_lexer": "r",
   "version": "3.5.2"
  }
 },
 "nbformat": 4,
 "nbformat_minor": 4
}
